{
 "cells": [
  {
   "cell_type": "markdown",
   "metadata": {},
   "source": [
    "Rotate an array of n elements to the right by k steps.\n",
    "\n",
    "For example, with n = 7 and k = 3, the array [1,2,3,4,5,6,7] is rotated to [5,6,7,1,2,3,4]."
   ]
  },
  {
   "cell_type": "code",
   "execution_count": null,
   "metadata": {
    "collapsed": true
   },
   "outputs": [],
   "source": [
    "class Solution(object):\n",
    "    def rotate(self, nums, k):\n",
    "        \"\"\"\n",
    "        :type nums: List[int]\n",
    "        :type k: int\n",
    "        :rtype: void Do not return anything, modify nums in-place instead.\n",
    "        \"\"\"\n",
    "        tail = nums [len(nums)- k:len(nums)]\n",
    "        head = nums [0:len(nums)-k]\n",
    "        nums = tail + head\n",
    "        print nums"
   ]
  },
  {
   "cell_type": "code",
   "execution_count": null,
   "metadata": {
    "collapsed": false
   },
   "outputs": [],
   "source": [
    "sol = Solution()\n",
    "sol.rotate ([1,2],1)"
   ]
  },
  {
   "cell_type": "code",
   "execution_count": null,
   "metadata": {
    "collapsed": false
   },
   "outputs": [],
   "source": [
    "nums = [1,2,3,4,5]\n",
    "k = 2\n",
    "print nums [- k:]\n",
    "print nums [:-k]\n",
    "print nums [len(nums)-k-1]\n",
    "nums = nums [- k:]+ nums [:-k]\n",
    "print nums"
   ]
  },
  {
   "cell_type": "code",
   "execution_count": null,
   "metadata": {
    "collapsed": false
   },
   "outputs": [],
   "source": [
    "print nums [0:len(nums)-3]"
   ]
  },
  {
   "cell_type": "code",
   "execution_count": null,
   "metadata": {
    "collapsed": false
   },
   "outputs": [],
   "source": [
    "nums = [1,2,3,4,5,6,7]\n",
    "print nums\n",
    "def swap (array,idx1,idx2,n):\n",
    "        for i in range(n):\n",
    "            array[idx1+i],array[idx2+i]=array[idx2+i],array[idx1+i]\n",
    "swap (nums,0,7-2,2)\n",
    "print nums"
   ]
  },
  {
   "cell_type": "code",
   "execution_count": null,
   "metadata": {
    "collapsed": false
   },
   "outputs": [],
   "source": [
    "class Solution2(object):\n",
    "    # swap first array starting from idx1 and second array starting from idx2\n",
    "    # swap n elements in each part\n",
    "    def swap (self,array,idx1,idx2,n):\n",
    "        for i in range(n):\n",
    "            array[idx1+i],array[idx2+i]=array[idx2+i],array[idx1+i]\n",
    "    def rightRotate(self, nums, start, length, step):\n",
    "        \"\"\"\n",
    "        :type nums: List[int]\n",
    "        :type k: int\n",
    "        :rtype: void Do not return anything, modify nums in-place instead.\n",
    "        \"\"\"\n",
    "        print \"start\",start\n",
    "        print \"length\",length\n",
    "        if (step==0 or step==length):\n",
    "            return\n",
    "        if 2*step==length:\n",
    "            swap (nums,start,length-step,step)\n",
    "            return\n",
    "        # [1,2,3,4,5,6,7], k=2, expected output: [6,7,1,2,3,4,5]\n",
    "        # [6,7,3,4,5,1,2], first two elements done, now rotate [3,4,5,1,2], k=2\n",
    "        # [1,2,5,3,4], rotate [5,3,4], k=2, in this case first half is longer than second half\n",
    "        # [4,3,5], keep the right half, and roate the left\n",
    "        # [4,3] -> [3,4]\n",
    "        if (2*step<length):\n",
    "            swap (nums,start,length-step,step)\n",
    "            start += step\n",
    "            length -= step\n",
    "            self.rightRotate (nums,start,length,step)\n",
    "        else:\n",
    "            swap (nums,start,length-step,step)\n",
    "            length -= step\n",
    "            self.rightRotate (nums,start,length,step)"
   ]
  },
  {
   "cell_type": "code",
   "execution_count": null,
   "metadata": {
    "collapsed": false
   },
   "outputs": [],
   "source": [
    "sol2 = Solution2()\n",
    "nums = [1,2,3,4,5,6,7]\n",
    "sol2.rightRotate(nums,0,7,5)\n",
    "print nums"
   ]
  },
  {
   "cell_type": "code",
   "execution_count": null,
   "metadata": {
    "collapsed": false
   },
   "outputs": [],
   "source": [
    "def rotateOne (array):\n",
    "    first = array[0]\n",
    "    for i in range(len(array)-1):\n",
    "        array[i],array[i+1]=array[i+1],array[i]\n",
    "    array[-1] = first\n",
    "def rightRotate(nums, k):\n",
    "    for i in range (k):\n",
    "        rotateOne(nums)"
   ]
  },
  {
   "cell_type": "code",
   "execution_count": null,
   "metadata": {
    "collapsed": false
   },
   "outputs": [],
   "source": [
    "nums = [1,2,3,4,5,6,7]\n",
    "rightRotate(nums,2)\n",
    "print nums"
   ]
  }
 ],
 "metadata": {
  "kernelspec": {
   "display_name": "Python 2",
   "language": "python",
   "name": "python2"
  },
  "language_info": {
   "codemirror_mode": {
    "name": "ipython",
    "version": 2
   },
   "file_extension": ".py",
   "mimetype": "text/x-python",
   "name": "python",
   "nbconvert_exporter": "python",
   "pygments_lexer": "ipython2",
   "version": "2.7.6"
  }
 },
 "nbformat": 4,
 "nbformat_minor": 0
}
