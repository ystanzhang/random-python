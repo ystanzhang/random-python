{
 "cells": [
  {
   "cell_type": "code",
   "execution_count": 1,
   "metadata": {
    "collapsed": true
   },
   "outputs": [],
   "source": [
    "def twoSum(nums, target):\n",
    "    dic = dict()\n",
    "    for i, val in enumerate(nums):\n",
    "        print i,val\n",
    "        if target - val in dic:\n",
    "            return [dic[target-val], i+1]\n",
    "        dic[val] = i+1"
   ]
  },
  {
   "cell_type": "code",
   "execution_count": 2,
   "metadata": {
    "collapsed": false
   },
   "outputs": [
    {
     "name": "stdout",
     "output_type": "stream",
     "text": [
      "0 2\n",
      "1 11\n",
      "2 15\n",
      "3 7\n",
      "[1, 4]\n"
     ]
    }
   ],
   "source": [
    "print twoSum([2,  11, 15,7],9)"
   ]
  },
  {
   "cell_type": "code",
   "execution_count": 5,
   "metadata": {
    "collapsed": true
   },
   "outputs": [],
   "source": [
    "def twoSum2(nums, target):\n",
    "    map = {}\n",
    "    for i in range(len(nums)):\n",
    "        if nums[i] not in map:\n",
    "            map[target - nums[i]] = i + 1\n",
    "        else:\n",
    "            return map[nums[i]], i + 1"
   ]
  },
  {
   "cell_type": "code",
   "execution_count": 6,
   "metadata": {
    "collapsed": false
   },
   "outputs": [
    {
     "name": "stdout",
     "output_type": "stream",
     "text": [
      "(1, 4)\n"
     ]
    }
   ],
   "source": [
    "print twoSum2([2,  11, 15,7],9)"
   ]
  }
 ],
 "metadata": {
  "kernelspec": {
   "display_name": "Python 2",
   "language": "python",
   "name": "python2"
  },
  "language_info": {
   "codemirror_mode": {
    "name": "ipython",
    "version": 2
   },
   "file_extension": ".py",
   "mimetype": "text/x-python",
   "name": "python",
   "nbconvert_exporter": "python",
   "pygments_lexer": "ipython2",
   "version": "2.7.6"
  }
 },
 "nbformat": 4,
 "nbformat_minor": 0
}
