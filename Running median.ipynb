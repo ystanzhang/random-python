{
 "cells": [
  {
   "cell_type": "markdown",
   "metadata": {},
   "source": [
    "Problem: Get the median for an increasing array  \n",
    "Example:  \n",
    "[1] -> 1   \n",
    "[1,5] -> 5  \n",
    "[1,5,3] -> 3  \n",
    "[1,5,3,8] -> 3  \n",
    "[1,5,3,8,4] -> 4  \n",
    "\n",
    "So if input = [1,5,3,8,4], output should be [1,5,3,3,4]  \n",
    "\n",
    "Thinking:    \n",
    "Split the numbers into two heaps, one storing smaller numbers with root to be largest of these smaller numbers, the other one storing larger numbers with root to be smallest  "
   ]
  },
  {
   "cell_type": "code",
   "execution_count": 1,
   "metadata": {
    "collapsed": true
   },
   "outputs": [],
   "source": [
    "import heapq\n",
    "def getMedian (nums):\n",
    "    \"\"\"\n",
    "    :type nums: List[int]\n",
    "    :return type: List[int]\n",
    "    \"\"\"\n",
    "    # minHeap: large half, with root being smallest num\n",
    "    # maxHeap: small half, with root being largest num\n",
    "   \n",
    "    minHeap, maxHeap = [],[]\n",
    "    ret = []\n",
    "    for n in nums:\n",
    "        # smaller number goes to maxHeap\n",
    "        if len(maxHeap) == 0 or n <= -1*maxHeap[0]:\n",
    "            heapq.heappush (maxHeap, -n) # since Python heap is based on min heap\n",
    "        # larger number goes to minHeap\n",
    "        else: \n",
    "            heapq.heappush (minHeap,n)\n",
    "        # make sure len(maxHeap) = len(minHeap) or len(maxHeap) = len(minHeap) + 1\n",
    "        if len(maxHeap) > len(minHeap) + 1:\n",
    "            pop = heapq.heappop (maxHeap)\n",
    "            heapq.heappush (minHeap,-pop)\n",
    "        elif len(minHeap) > len(maxHeap):\n",
    "            pop = heapq.heappop (minHeap)\n",
    "            heapq.heappush (maxHeap,-pop)\n",
    "        # append the root of the maxHeap\n",
    "        ### for debugging: ###\n",
    "        print \"minHeap \",minHeap\n",
    "        print \"maxHeap \",maxHeap\n",
    "        ret.append (-maxHeap[0])\n",
    "    return ret"
   ]
  },
  {
   "cell_type": "code",
   "execution_count": 2,
   "metadata": {
    "collapsed": false
   },
   "outputs": [
    {
     "name": "stdout",
     "output_type": "stream",
     "text": [
      "[40, 27, 23, 38, 7, 21, 7, 33, 42, 23]\n",
      "minHeap  []\n",
      "maxHeap  [-40]\n",
      "minHeap  [40]\n",
      "maxHeap  [-27]\n",
      "minHeap  [40]\n",
      "maxHeap  [-27, -23]\n",
      "minHeap  [38, 40]\n",
      "maxHeap  [-27, -23]\n",
      "minHeap  [38, 40]\n",
      "maxHeap  [-27, -23, -7]\n",
      "minHeap  [27, 40, 38]\n",
      "maxHeap  [-23, -21, -7]\n",
      "minHeap  [27, 40, 38]\n",
      "maxHeap  [-23, -21, -7, -7]\n",
      "minHeap  [27, 33, 38, 40]\n",
      "maxHeap  [-23, -21, -7, -7]\n",
      "minHeap  [33, 40, 38, 42]\n",
      "maxHeap  [-27, -23, -7, -7, -21]\n",
      "minHeap  [27, 33, 38, 42, 40]\n",
      "maxHeap  [-23, -23, -7, -7, -21]\n",
      "[40, 27, 27, 27, 27, 23, 23, 23, 27, 23]\n"
     ]
    }
   ],
   "source": [
    "# test cases:\n",
    "import random\n",
    "nums = []\n",
    "for i in range (10):\n",
    "    nums.append (random.randint(1,50))\n",
    "print nums\n",
    "print getMedian (nums)"
   ]
  }
 ],
 "metadata": {
  "kernelspec": {
   "display_name": "Python 2",
   "language": "python",
   "name": "python2"
  },
  "language_info": {
   "codemirror_mode": {
    "name": "ipython",
    "version": 2
   },
   "file_extension": ".py",
   "mimetype": "text/x-python",
   "name": "python",
   "nbconvert_exporter": "python",
   "pygments_lexer": "ipython2",
   "version": "2.7.10"
  }
 },
 "nbformat": 4,
 "nbformat_minor": 0
}
