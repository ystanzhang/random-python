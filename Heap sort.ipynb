{
 "cells": [
  {
   "cell_type": "code",
   "execution_count": 2,
   "metadata": {
    "collapsed": false
   },
   "outputs": [],
   "source": [
    " def heapsort( aList ):\n",
    "    # convert aList to heap\n",
    "    length = len( aList ) - 1\n",
    "    leastParent = length / 2\n",
    "    for i in range ( leastParent, -1, -1 ):\n",
    "        moveDown( aList, i, length )\n",
    " \n",
    "  # flatten heap into sorted array\n",
    "    for i in range ( length, 0, -1 ):\n",
    "        if aList[0] > aList[i]:\n",
    "            swap( aList, 0, i )\n",
    "            moveDown( aList, 0, i - 1 )\n",
    " \n",
    " \n",
    "def moveDown( aList, first, last ):\n",
    "    largest = 2 * first + 1\n",
    "    while largest <= last:\n",
    "        # right child exists and is larger than left child\n",
    "        if ( largest < last ) and ( aList[largest] < aList[largest + 1] ):\n",
    "            largest += 1\n",
    " \n",
    "    # right child is larger than parent\n",
    "    if aList[largest] > aList[first]:\n",
    "        swap( aList, largest, first )\n",
    "        # move down to largest child\n",
    "        first = largest;\n",
    "        largest = 2 * first + 1\n",
    "    else:\n",
    "        return # force exit\n",
    " \n",
    " \n",
    "def swap( A, x, y ):\n",
    "    tmp = A[x]\n",
    "    A[x] = A[y]\n",
    "    A[y] = tmp"
   ]
  },
  {
   "cell_type": "code",
   "execution_count": 9,
   "metadata": {
    "collapsed": true
   },
   "outputs": [],
   "source": [
    "def heapsort(a):\n",
    "    \"\"\"Run heapsort on a list a\n",
    "    >>> a = [32,46,77,4344564,7322,3,46,7,32457,7542,4,667,54,]\n",
    "    >>> heapsort(a)\n",
    "    >>> print(a)\n",
    "    [3, 4, 7, 32, 46, 46, 54, 77, 667, 7322, 7542, 32457, 4344564]\n",
    "    \"\"\"\n",
    "\n",
    "    heapify(a, len(a))\n",
    "    print a\n",
    "    end = len(a)-1\n",
    "    while end > 0:\n",
    "        a[end], a[0] = a[0], a[end]\n",
    "        end -= 1\n",
    "        sift_down(a, 0, end)\n",
    "\n",
    "def heapify(a, count):\n",
    "    start = int((count-2)/2)\n",
    "    while start >= 0:\n",
    "        sift_down(a, start, count-1)\n",
    "        start -= 1\n",
    "\n",
    "def sift_down(a, start, end):\n",
    "    root = start\n",
    "    while (root*2+1) <= end:\n",
    "        child = root * 2 + 1\n",
    "        swap = root\n",
    "        if a[swap] < a[child]:\n",
    "            swap = child\n",
    "        if (child + 1) <= end and a[swap] < a[child+1]:\n",
    "            swap = child+1\n",
    "        if swap != root:\n",
    "            a[root], a[swap] = a[swap], a[root]\n",
    "            root = swap\n",
    "        else:\n",
    "            return"
   ]
  },
  {
   "cell_type": "code",
   "execution_count": 10,
   "metadata": {
    "collapsed": false
   },
   "outputs": [
    {
     "name": "stdout",
     "output_type": "stream",
     "text": [
      "[4344564, 32457, 667, 46, 7542, 77, 46, 7, 32, 7322, 4, 3, 54]\n",
      "[3, 4, 7, 32, 46, 46, 54, 77, 667, 7322, 7542, 32457, 4344564]\n"
     ]
    }
   ],
   "source": [
    "a = [32,46,77,4344564,7322,3,46,7,32457,7542,4,667,54,]\n",
    "heapsort(a)\n",
    "print(a)"
   ]
  },
  {
   "cell_type": "code",
   "execution_count": null,
   "metadata": {
    "collapsed": true
   },
   "outputs": [],
   "source": []
  }
 ],
 "metadata": {
  "kernelspec": {
   "display_name": "Python 2",
   "language": "python",
   "name": "python2"
  },
  "language_info": {
   "codemirror_mode": {
    "name": "ipython",
    "version": 2
   },
   "file_extension": ".py",
   "mimetype": "text/x-python",
   "name": "python",
   "nbconvert_exporter": "python",
   "pygments_lexer": "ipython2",
   "version": "2.7.10"
  }
 },
 "nbformat": 4,
 "nbformat_minor": 0
}
