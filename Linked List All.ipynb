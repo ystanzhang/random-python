{
 "cells": [
  {
   "cell_type": "code",
   "execution_count": 1,
   "metadata": {
    "collapsed": true
   },
   "outputs": [],
   "source": [
    "class Node:\n",
    "    def __init__(self, x):\n",
    "        self.value = x\n",
    "        self.next = None"
   ]
  },
  {
   "cell_type": "code",
   "execution_count": 7,
   "metadata": {
    "collapsed": true
   },
   "outputs": [],
   "source": [
    "def genLinkList (arr):\n",
    "    root = None\n",
    "    cur = None\n",
    "    for i in arr:\n",
    "        if not root:\n",
    "            root = Node(i)\n",
    "            cur = root\n",
    "        else:\n",
    "            node = Node(i)\n",
    "            cur.next = node\n",
    "            cur = node\n",
    "    return root"
   ]
  },
  {
   "cell_type": "code",
   "execution_count": 5,
   "metadata": {
    "collapsed": true
   },
   "outputs": [],
   "source": [
    "def printList (root):\n",
    "    while root:\n",
    "        print root.value\n",
    "        root = root.next"
   ]
  },
  {
   "cell_type": "code",
   "execution_count": 8,
   "metadata": {
    "collapsed": false
   },
   "outputs": [
    {
     "name": "stdout",
     "output_type": "stream",
     "text": [
      "1\n",
      "2\n",
      "3\n",
      "4\n",
      "5\n"
     ]
    }
   ],
   "source": [
    "root = genLinkList([1,2,3,4,5])\n",
    "printList(root)"
   ]
  },
  {
   "cell_type": "code",
   "execution_count": 18,
   "metadata": {
    "collapsed": true
   },
   "outputs": [],
   "source": [
    "def reverseList(root):\n",
    "    if not root.next:\n",
    "        return root\n",
    "    prev, cur = None, root\n",
    "    while cur:\n",
    "        tempNext = cur.next\n",
    "        cur.next = prev\n",
    "        prev = cur\n",
    "        cur = tempNext\n",
    "    return prev"
   ]
  },
  {
   "cell_type": "code",
   "execution_count": 19,
   "metadata": {
    "collapsed": false
   },
   "outputs": [
    {
     "name": "stdout",
     "output_type": "stream",
     "text": [
      "1\n",
      "2\n",
      "3\n",
      "4\n",
      "5\n",
      "5\n",
      "4\n",
      "3\n",
      "2\n",
      "1\n"
     ]
    }
   ],
   "source": [
    "root = genLinkList([1,2,3,4,5])\n",
    "# printList(root)\n",
    "revList = reverseList(root)\n",
    "printList(revList)"
   ]
  }
 ],
 "metadata": {
  "kernelspec": {
   "display_name": "Python 2",
   "language": "python",
   "name": "python2"
  },
  "language_info": {
   "codemirror_mode": {
    "name": "ipython",
    "version": 2
   },
   "file_extension": ".py",
   "mimetype": "text/x-python",
   "name": "python",
   "nbconvert_exporter": "python",
   "pygments_lexer": "ipython2",
   "version": "2.7.10"
  }
 },
 "nbformat": 4,
 "nbformat_minor": 0
}
