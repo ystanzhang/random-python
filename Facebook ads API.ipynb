{
 "cells": [
  {
   "cell_type": "code",
   "execution_count": 4,
   "metadata": {
    "collapsed": true
   },
   "outputs": [],
   "source": [
    "import requests"
   ]
  },
  {
   "cell_type": "code",
   "execution_count": 1,
   "metadata": {
    "collapsed": true
   },
   "outputs": [],
   "source": [
    "token = 'EAABsbCS1iHgBAMDl5TCZA3A6dqkul1g4TmgDMMb2fxDZAvmveeQLmZCHIcoBYEhUie44YWtkFZAucJILzmdc8JhfHPkghEbkq5Rqn5oUWwn0BqFmaKWntwthjr5n5G4UGw4sdDMG3jBmqHNSZBDYeyiZAxlxj6xztEVZAhJDqdDuNx2nbnuWFRgNL0vPQZBsmvoZD'\n",
    "report_id = 919833038162469"
   ]
  },
  {
   "cell_type": "code",
   "execution_count": 5,
   "metadata": {},
   "outputs": [
    {
     "name": "stdout",
     "output_type": "stream",
     "text": [
      "{'error': {'message': 'Error validating access token: Session has expired on Tuesday, 28-Feb-17 15:00:00 PST. The current time is Thursday, 28-Sep-17 10:30:32 PDT.', 'type': 'OAuthException', 'code': 190, 'error_subcode': 463, 'fbtrace_id': 'DV07Ub95mjK'}}\n"
     ]
    }
   ],
   "source": [
    "token = 'EAACEdEose0cBAGGujUZAkdZBLasAIGi5bVH57Y70bI8PGTE2ZAZCa2AvhQy8thdqo7vAahN0INE0UC2g8jKHELlwSQaFRklnCZBzjxhUZBZCKgKJ31tjHLmfnbX5bN0yomN4DzzhAmARFy4ZBVKXRr4md70hbtQdCJEXr1Ah2xqNkDQ9MmkhUnOPcNIvwBDaHt6RHcGY8diT2QZDZD'\n",
    "report_id = '785891354891265'\n",
    "url = 'https://graph.facebook.com/v2.6/' + report_id + '/insights?access_token=' + token\n",
    "data = requests.get(url)\n",
    "json_response = data.json()\n",
    "print(json_response)"
   ]
  },
  {
   "cell_type": "code",
   "execution_count": 34,
   "metadata": {},
   "outputs": [
    {
     "name": "stdout",
     "output_type": "stream",
     "text": [
      "{u'error': {u'message': u'(#803) Cannot query users by their username (endpoint)', u'code': 803, u'type': u'OAuthException', u'fbtrace_id': u'DEwogkVMv3u'}}\n"
     ]
    }
   ],
   "source": [
    "app_id = '785891354891265'\n",
    "app_secret = 'fef43fea14604a01e482ab3718db1158'\n",
    "url_token = 'https://graph.facebook.com/endpoint?key=value&amp;access_token=' + app_id + '|' + app_secret\n",
    "data = requests.get(url_token)\n",
    "json_response = data.json()\n",
    "print json_response"
   ]
  },
  {
   "cell_type": "code",
   "execution_count": 42,
   "metadata": {},
   "outputs": [
    {
     "name": "stdout",
     "output_type": "stream",
     "text": [
      "{u'error': {u'message': u'Error validating access token: Session has expired on Tuesday, 28-Feb-17 15:00:00 PST. The current time is Tuesday, 28-Feb-17 15:16:33 PST.', u'code': 190, u'type': u'OAuthException', u'fbtrace_id': u'ANy3KtoM570', u'error_subcode': 463}}\n"
     ]
    }
   ],
   "source": [
    "token = 'EAACEdEose0cBAGGujUZAkdZBLasAIGi5bVH57Y70bI8PGTE2ZAZCa2AvhQy8thdqo7vAahN0INE0UC2g8jKHELlwSQaFRklnCZBzjxhUZBZCKgKJ31tjHLmfnbX5bN0yomN4DzzhAmARFy4ZBVKXRr4md70hbtQdCJEXr1Ah2xqNkDQ9MmkhUnOPcNIvwBDaHt6RHcGY8diT2QZDZD'\n",
    "attr_window = '\"1d_view\",\"28d_click\"'\n",
    "# fields = '&fields=[\"account_id\",\"campaign_name\",\"campaign_id\",\"adset_name\",\"adset_id\",' \\\n",
    "#                  '\"ad_name\",\"ad_id\",' \\\n",
    "#                  '\"social_reach\",\"reach\",\"frequency\",\"impressions\",\"clicks\",\"unique_clicks\",\"ctr\",\"unique_ctr\",' \\\n",
    "#                  '\"spend\",\"cpm\",\"cpp\",\"cpc\",\"total_actions\",\"total_unique_actions\",\"actions\",\"action_values\",' \\\n",
    "#                  '\"video_avg_sec_watched_actions\",\"video_avg_pct_watched_actions\",\"video_p25_watched_actions\",' \\\n",
    "#                  '\"video_p50_watched_actions\",\"video_p75_watched_actions\",\"video_p95_watched_actions\",' \\\n",
    "#                     \"estimated_ad_recall_rate\",\"estimated_ad_recallers\",\"video_10_sec_watched_actions]'\n",
    "\n",
    "action_breakdown = \"&action_breakdowns=['action_type']\"                    \n",
    "level = '&level=ad'                 \n",
    "time_range = '&time_range={\"since\": \"' + '2017-02-10' + '\", \"until\": \"' + '2017-02-20' + '\"}'\n",
    "adaccount = '1382949768623022'\n",
    "filtering = '&filtering=[{\"field\":\"adgroup.delivery_info\",\"operator\":\"IN\",\"value\":' \\\n",
    "                    '[\"active\",\"archived\",\"completed\",\"inactive\",\"not_delivering\",\"not_published\",\"pending_review\",\"recently_completed\",\"recently_rejected\",\"rejected\",\"scheduled\",\"permanently_deleted\"]}, ' \\\n",
    "                    ']'\n",
    "# url\n",
    "url = 'https://graph.facebook.com/v2.8/act_' + adaccount + '/insights?' + 'access_token=' + token.strip() \n",
    "data = requests.get(url)\n",
    "json_response = data.json()\n",
    "print json_response"
   ]
  },
  {
   "cell_type": "code",
   "execution_count": 62,
   "metadata": {},
   "outputs": [
    {
     "name": "stdout",
     "output_type": "stream",
     "text": [
      "access_token=785891354891265|VWoEV7NNbL4wcZ1Utv6Gt3qEL4g\n"
     ]
    }
   ],
   "source": [
    "client_id = '785891354891265'\n",
    "secret = 'fef43fea14604a01e482ab3718db1158'\n",
    "url = 'https://graph.facebook.com/oauth/access_token?client_id=' + client_id +'&client_secret=' + secret + '&grant_type=client_credentials'\n",
    "response = urllib2.urlopen(url)\n",
    "print response.read()"
   ]
  },
  {
   "cell_type": "code",
   "execution_count": 69,
   "metadata": {},
   "outputs": [
    {
     "name": "stdout",
     "output_type": "stream",
     "text": [
      "https://graph.facebook.com/v2.8/act_1121401921236813/adsets?access_token=EAALKw5cKVAEBACEyCcSsXzFGQ8g7ZBGPYLmw5eDFV5TuPWQHDAfKI5n44Y1z1fpDSZA2zjWxf86OUyNZC9X4dfIPF7nZCnpizvr4upgpdSV025ICiuE9YKLe4EyjPwBeytKAAeJK9bjSSWUXRfQ5LUHiUHAFGTpdjGPgBrmSAQZDZD\n",
      "[{u'id': u'23842552868090790'}, {u'id': u'23842552868070790'}, {u'id': u'23842552868040790'}, {u'id': u'23842546642510790'}, {u'id': u'23842546642400790'}, {u'id': u'23842546642390790'}, {u'id': u'23842546642370790'}, {u'id': u'23842546642350790'}, {u'id': u'23842546642340790'}, {u'id': u'23842546642330790'}, {u'id': u'23842546519840790'}, {u'id': u'23842546519780790'}, {u'id': u'23842546519770790'}, {u'id': u'23842546519760790'}, {u'id': u'23842546519750790'}, {u'id': u'23842546519740790'}, {u'id': u'23842544903850790'}, {u'id': u'23842544903830790'}, {u'id': u'23842543799470790'}, {u'id': u'23842543799440790'}, {u'id': u'23842543506240790'}, {u'id': u'23842543504100790'}, {u'id': u'23842543463500790'}, {u'id': u'23842542729940790'}, {u'id': u'23842542729880790'}]\n",
      "[{\"id\": \"23842552868090790\"}, {\"id\": \"23842552868070790\"}, {\"id\": \"23842552868040790\"}, {\"id\": \"23842546642510790\"}, {\"id\": \"23842546642400790\"}, {\"id\": \"23842546642390790\"}, {\"id\": \"23842546642370790\"}, {\"id\": \"23842546642350790\"}, {\"id\": \"23842546642340790\"}, {\"id\": \"23842546642330790\"}, {\"id\": \"23842546519840790\"}, {\"id\": \"23842546519780790\"}, {\"id\": \"23842546519770790\"}, {\"id\": \"23842546519760790\"}, {\"id\": \"23842546519750790\"}, {\"id\": \"23842546519740790\"}, {\"id\": \"23842544903850790\"}, {\"id\": \"23842544903830790\"}, {\"id\": \"23842543799470790\"}, {\"id\": \"23842543799440790\"}, {\"id\": \"23842543506240790\"}, {\"id\": \"23842543504100790\"}, {\"id\": \"23842543463500790\"}, {\"id\": \"23842542729940790\"}, {\"id\": \"23842542729880790\"}]\n"
     ]
    }
   ],
   "source": [
    "# GET ALL ids\n",
    "import urllib2\n",
    "import json\n",
    "# client_id = '785891354891265'\n",
    "# secret = 'fef43fea14604a01e482ab3718db1158'\n",
    "# url = 'https://graph.facebook.com/oauth/access_token?client_id=' + client_id +'&client_secret=' + secret + '&grant_type=client_credentials'\n",
    "\n",
    "# response = urllib2.urlopen(url)\n",
    "# token = response.read()\n",
    "token = 'EAALKw5cKVAEBACEyCcSsXzFGQ8g7ZBGPYLmw5eDFV5TuPWQHDAfKI5n44Y1z1fpDSZA2zjWxf86OUyNZC9X4dfIPF7nZCnpizvr4upgpdSV025ICiuE9YKLe4EyjPwBeytKAAeJK9bjSSWUXRfQ5LUHiUHAFGTpdjGPgBrmSAQZDZD'\n",
    "adaccount = '1121401921236813'\n",
    "fields = '?fields=account_id,account_status,age,balance,amount_spent,business'\n",
    "adurl = 'https://graph.facebook.com/v2.8/act_' + adaccount + '/adsets?access_token=' + token\n",
    "# print adurl\n",
    "data = requests.get(adurl)\n",
    "data = data.json()['data']\n",
    "print data\n",
    "print json.dumps(data)"
   ]
  },
  {
   "cell_type": "code",
   "execution_count": null,
   "metadata": {
    "collapsed": true
   },
   "outputs": [],
   "source": []
  },
  {
   "cell_type": "code",
   "execution_count": 72,
   "metadata": {},
   "outputs": [
    {
     "name": "stdout",
     "output_type": "stream",
     "text": [
      "https://graph.facebook.com/v2.8/23842546519770790/insights?access_token=EAALKw5cKVAEBACEyCcSsXzFGQ8g7ZBGPYLmw5eDFV5TuPWQHDAfKI5n44Y1z1fpDSZA2zjWxf86OUyNZC9X4dfIPF7nZCnpizvr4upgpdSV025ICiuE9YKLe4EyjPwBeytKAAeJK9bjSSWUXRfQ5LUHiUHAFGTpdjGPgBrmSAQZDZD\n",
      "{\"paging\": {\"cursors\": {\"after\": \"MAZDZD\", \"before\": \"MAZDZD\"}}, \"data\": [{\"date_stop\": \"2017-03-06\", \"adset_id\": \"23842546519770790\", \"account_id\": \"1121401921236813\", \"date_start\": \"2017-02-05\", \"campaign_id\": \"23842543974400790\", \"impressions\": \"301303\", \"spend\": \"5500\"}]}\n"
     ]
    }
   ],
   "source": [
    "# GET insights from adid\n",
    "import urllib2\n",
    "# client_id = '785891354891265'\n",
    "# secret = 'fef43fea14604a01e482ab3718db1158'\n",
    "# url = 'https://graph.facebook.com/oauth/access_token?client_id=' + client_id +'&client_secret=' + secret + '&grant_type=client_credentials'\n",
    "\n",
    "# response = urllib2.urlopen(url)\n",
    "# token = response.read()\n",
    "token = 'EAALKw5cKVAEBACEyCcSsXzFGQ8g7ZBGPYLmw5eDFV5TuPWQHDAfKI5n44Y1z1fpDSZA2zjWxf86OUyNZC9X4dfIPF7nZCnpizvr4upgpdSV025ICiuE9YKLe4EyjPwBeytKAAeJK9bjSSWUXRfQ5LUHiUHAFGTpdjGPgBrmSAQZDZD'\n",
    "adid = '23842546519770790'\n",
    "fields = '?fields=account_id,account_status,age,balance,amount_spent,business'\n",
    "adurl = 'https://graph.facebook.com/v2.8/' + adid + '/insights?access_token=' + token\n",
    "print adurl\n",
    "data = requests.get(adurl)\n",
    "data2 = data.json()\n",
    "print json.dumps(data2)"
   ]
  },
  {
   "cell_type": "code",
   "execution_count": null,
   "metadata": {
    "collapsed": true
   },
   "outputs": [],
   "source": [
    "https://graph.facebook.com/oauth/access_token?client_id=785891354891265&client_secret=fef43fea14604a01e482ab3718db1158&grant_type=client_credentials"
   ]
  }
 ],
 "metadata": {
  "kernelspec": {
   "display_name": "Python 3",
   "language": "python",
   "name": "python3"
  },
  "language_info": {
   "codemirror_mode": {
    "name": "ipython",
    "version": 3
   },
   "file_extension": ".py",
   "mimetype": "text/x-python",
   "name": "python",
   "nbconvert_exporter": "python",
   "pygments_lexer": "ipython3",
   "version": "3.6.2"
  }
 },
 "nbformat": 4,
 "nbformat_minor": 1
}
