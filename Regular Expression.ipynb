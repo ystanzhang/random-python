{
 "cells": [
  {
   "cell_type": "code",
   "execution_count": null,
   "metadata": {
    "collapsed": true
   },
   "outputs": [],
   "source": [
    "def pattern_match (s, p):\n",
    "    if s == p: \n",
    "        return True\n",
    "    "
   ]
  },
  {
   "cell_type": "code",
   "execution_count": 10,
   "metadata": {
    "collapsed": true
   },
   "outputs": [],
   "source": [
    "def isMatch( s, p):\n",
    "    dp = [[False] * (len(s) + 1) for _ in range(len(p) + 1)]\n",
    "    dp[0][0] = True\n",
    "    for i in range(1, len(p)):\n",
    "        if p[i] == '*': \n",
    "            dp[i + 1][0] = dp[i - 1][0]\n",
    "    print dp\n",
    "    for i in range(len(p)):\n",
    "        for j in range(len(s)):\n",
    "            if p[i] == '*':\n",
    "                dp[i + 1][j + 1] = dp[i - 1][j + 1] or dp[i][j + 1]\n",
    "                if p[i - 1] == s[j] or p[i - 1] == '.':\n",
    "                    dp[i + 1][j + 1] |= dp[i + 1][j]\n",
    "            else:\n",
    "                dp[i + 1][j + 1] = dp[i][j] and (p[i] == s[j] or p[i] == '.')\n",
    "            print dp\n",
    "    return dp[-1][-1]"
   ]
  },
  {
   "cell_type": "code",
   "execution_count": 11,
   "metadata": {
    "collapsed": false
   },
   "outputs": [
    {
     "name": "stdout",
     "output_type": "stream",
     "text": [
      "[[True, False, False, False], [False, False, False, False], [True, False, False, False], [False, False, False, False], [True, False, False, False], [False, False, False, False]]\n",
      "[[True, False, False, False], [False, False, False, False], [True, False, False, False], [False, False, False, False], [True, False, False, False], [False, False, False, False]]\n",
      "[[True, False, False, False], [False, False, False, False], [True, False, False, False], [False, False, False, False], [True, False, False, False], [False, False, False, False]]\n",
      "[[True, False, False, False], [False, False, False, False], [True, False, False, False], [False, False, False, False], [True, False, False, False], [False, False, False, False]]\n",
      "[[True, False, False, False], [False, False, False, False], [True, False, False, False], [False, False, False, False], [True, False, False, False], [False, False, False, False]]\n",
      "[[True, False, False, False], [False, False, False, False], [True, False, False, False], [False, False, False, False], [True, False, False, False], [False, False, False, False]]\n",
      "[[True, False, False, False], [False, False, False, False], [True, False, False, False], [False, False, False, False], [True, False, False, False], [False, False, False, False]]\n",
      "[[True, False, False, False], [False, False, False, False], [True, False, False, False], [False, True, False, False], [True, False, False, False], [False, False, False, False]]\n",
      "[[True, False, False, False], [False, False, False, False], [True, False, False, False], [False, True, False, False], [True, False, False, False], [False, False, False, False]]\n",
      "[[True, False, False, False], [False, False, False, False], [True, False, False, False], [False, True, False, False], [True, False, False, False], [False, False, False, False]]\n",
      "[[True, False, False, False], [False, False, False, False], [True, False, False, False], [False, True, False, False], [True, True, False, False], [False, False, False, False]]\n",
      "[[True, False, False, False], [False, False, False, False], [True, False, False, False], [False, True, False, False], [True, True, True, False], [False, False, False, False]]\n",
      "[[True, False, False, False], [False, False, False, False], [True, False, False, False], [False, True, False, False], [True, True, True, False], [False, False, False, False]]\n",
      "[[True, False, False, False], [False, False, False, False], [True, False, False, False], [False, True, False, False], [True, True, True, False], [False, False, False, False]]\n",
      "[[True, False, False, False], [False, False, False, False], [True, False, False, False], [False, True, False, False], [True, True, True, False], [False, False, False, False]]\n",
      "[[True, False, False, False], [False, False, False, False], [True, False, False, False], [False, True, False, False], [True, True, True, False], [False, False, False, True]]\n",
      "True\n"
     ]
    }
   ],
   "source": [
    "print (isMatch('aab','c*a*b'))"
   ]
  },
  {
   "cell_type": "code",
   "execution_count": 7,
   "metadata": {
    "collapsed": false
   },
   "outputs": [
    {
     "name": "stdout",
     "output_type": "stream",
     "text": [
      "[(1, 1, 1), (1, 1, 2), (2, 1, 1), (2, 1, 2), (3, 1, 1), (3, 1, 2)]\n"
     ]
    }
   ],
   "source": [
    "import itertools\n",
    "input = [[1, 2, 3], [1], [1, 2]]\n",
    "print [each for each in itertools.product(*input)]"
   ]
  },
  {
   "cell_type": "code",
   "execution_count": 8,
   "metadata": {
    "collapsed": true
   },
   "outputs": [],
   "source": [
    "import re"
   ]
  },
  {
   "cell_type": "code",
   "execution_count": 23,
   "metadata": {
    "collapsed": false
   },
   "outputs": [
    {
     "name": "stdout",
     "output_type": "stream",
     "text": [
      "false\n"
     ]
    }
   ],
   "source": [
    "s = 'aabbc'\n",
    "p = '^a{1,2}b{1,2}cc{1,2}$'\n",
    "if re.match(p,s):\n",
    "    print ('true')\n",
    "else:\n",
    "    print ('false')"
   ]
  },
  {
   "cell_type": "code",
   "execution_count": null,
   "metadata": {
    "collapsed": true
   },
   "outputs": [],
   "source": [
    "def is_match(s, p):\n",
    "    if s == p: \n",
    "        return True\n",
    "    for i in range(len(p)):\n",
    "        if p[i] == '{':\n",
    "            min = p[i+1]\n",
    "            max = p[i+3]"
   ]
  },
  {
   "cell_type": "code",
   "execution_count": 22,
   "metadata": {
    "collapsed": false
   },
   "outputs": [
    {
     "name": "stdout",
     "output_type": "stream",
     "text": [
      "0\n",
      "1\n",
      "('1', '3')\n",
      "2\n",
      "3\n",
      "4\n",
      "5\n"
     ]
    }
   ],
   "source": [
    "p = 'a{1,3}'\n",
    "for i in range(len(p)):\n",
    "        print i\n",
    "        if p[i] == '{':\n",
    "            min = p[i+1]\n",
    "            max = p[i+3]\n",
    "            print (min,max)\n",
    "        "
   ]
  }
 ],
 "metadata": {
  "kernelspec": {
   "display_name": "Python 2",
   "language": "python",
   "name": "python2"
  },
  "language_info": {
   "codemirror_mode": {
    "name": "ipython",
    "version": 2
   },
   "file_extension": ".py",
   "mimetype": "text/x-python",
   "name": "python",
   "nbconvert_exporter": "python",
   "pygments_lexer": "ipython2",
   "version": "2.7.10"
  }
 },
 "nbformat": 4,
 "nbformat_minor": 0
}
