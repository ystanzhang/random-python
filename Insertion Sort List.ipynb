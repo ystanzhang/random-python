{
 "cells": [
  {
   "cell_type": "code",
   "execution_count": 1,
   "metadata": {
    "collapsed": true
   },
   "outputs": [],
   "source": [
    "class ListNode:\n",
    "    def __init__ (self,x):\n",
    "        self.val = x\n",
    "        self.next = None\n",
    "def construct_list (array):\n",
    "    head = ListNode (0)\n",
    "    for i in range (len(array)):\n",
    "        if i==0:\n",
    "            head = ListNode (array[i])\n",
    "            tail = head\n",
    "        else:\n",
    "            tail.next = ListNode (array[i])\n",
    "            tail = tail.next\n",
    "    return head\n",
    "def printList (l):\n",
    "    p = l\n",
    "    temp = []\n",
    "    while p:\n",
    "        temp.append(p.val)\n",
    "        p = p.next\n",
    "    print (temp)"
   ]
  },
  {
   "cell_type": "code",
   "execution_count": 10,
   "metadata": {
    "collapsed": false
   },
   "outputs": [],
   "source": [
    "class Solution:\n",
    "    # @param head, a ListNode\n",
    "    # @return a ListNode\n",
    "    def insertionSortList(self, head):\n",
    "        #insertion sort: 23 42 4 16 8 15 -> 23 42 | 4 16 8 15 -> 23 4 42 | 16 8 15 -> 4 23 42 | 16 8 15 -> 4 23 16 42 | 8 15 -> 4 16 23 42 | 8 15 ...\n",
    "        if head is None: return head\n",
    "        dummy_head = ListNode(0)\n",
    "        dummy_head.next = head\n",
    "        cur = head.next\n",
    "        tail = head\n",
    "        while cur is not None:\n",
    "            if cur.val < tail.val:\n",
    "                ptr = dummy_head.next\n",
    "                if cur.val < ptr.val:\n",
    "                    tail.next = cur.next\n",
    "                    cur.next = dummy_head.next\n",
    "                    dummy_head.next = cur\n",
    "                else:\n",
    "                    while ptr.next is not None:\n",
    "                        if cur.val >= ptr.val and cur.val < ptr.next.val:\n",
    "                            tail.next = cur.next\n",
    "                            cur.next = ptr.next\n",
    "                            ptr.next = cur\n",
    "                            break\n",
    "                        ptr = ptr.next\n",
    "                cur = tail.next\n",
    "            else:\n",
    "                tail = cur\n",
    "                cur = cur.next\n",
    "        return dummy_head.next"
   ]
  },
  {
   "cell_type": "code",
   "execution_count": 11,
   "metadata": {
    "collapsed": false
   },
   "outputs": [
    {
     "name": "stdout",
     "output_type": "stream",
     "text": [
      "[1, 2, 2, 3, 5, 7, 10]\n"
     ]
    }
   ],
   "source": [
    "# test case\n",
    "l = construct_list ([1,5,3,2,2,10,7])\n",
    "solution = Solution ()\n",
    "ret = solution.insertionSortList(l)\n",
    "printList (ret)"
   ]
  },
  {
   "cell_type": "code",
   "execution_count": null,
   "metadata": {
    "collapsed": true
   },
   "outputs": [],
   "source": [
    "class Solution:\n",
    "    # @param head, a ListNode\n",
    "    # @return a ListNode\n",
    "    def insertionSortList(self, head):\n",
    "        dummy = ListNode (0)\n",
    "        pre = dummy\n",
    "        cur = head\n",
    "        while cur:\n",
    "            while pre.next and pre.next.val < cur.val:\n",
    "                pre = pre.next  "
   ]
  }
 ],
 "metadata": {
  "kernelspec": {
   "display_name": "Python 2",
   "language": "python",
   "name": "python2"
  },
  "language_info": {
   "codemirror_mode": {
    "name": "ipython",
    "version": 2
   },
   "file_extension": ".py",
   "mimetype": "text/x-python",
   "name": "python",
   "nbconvert_exporter": "python",
   "pygments_lexer": "ipython2",
   "version": "2.7.6"
  }
 },
 "nbformat": 4,
 "nbformat_minor": 0
}
