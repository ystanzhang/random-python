{
 "cells": [
  {
   "cell_type": "raw",
   "metadata": {},
   "source": [
    "Given a binary tree, return all root-to-leaf paths.\n",
    "\n",
    "For example, given the following binary tree:\n",
    "\n",
    "   1\n",
    " /   \\\n",
    "2     3\n",
    " \\\n",
    "  5\n",
    "All root-to-leaf paths are:\n",
    "\n",
    "[\"1->2->5\", \"1->3\"]"
   ]
  },
  {
   "cell_type": "code",
   "execution_count": 1,
   "metadata": {
    "collapsed": true
   },
   "outputs": [],
   "source": [
    "import collections\n",
    "class TreeNode(object):\n",
    "    def __init__(self, x):\n",
    "        self.val = x\n",
    "        self.left = None\n",
    "        self.right = None\n",
    "def initNode (val):\n",
    "    if val == '#':\n",
    "        return None\n",
    "    return TreeNode(val)\n",
    "def deSorderLevel (seq):\n",
    "    index = 0\n",
    "    length = len(seq)\n",
    "    root = TreeNode(seq[index])\n",
    "    index += 1\n",
    "    qCur = collections.deque()\n",
    "    qNext = collections.deque()\n",
    "    qCur.append(root)\n",
    "    while qCur:\n",
    "        node = qCur.popleft()\n",
    "        if node:\n",
    "            left = initNode(seq[index])\n",
    "            node.left = left\n",
    "            qNext.append(left)\n",
    "            if index == length-1:\n",
    "                break\n",
    "            index += 1\n",
    "            right = initNode(seq[index])\n",
    "            node.right = right\n",
    "            qNext.append(right)\n",
    "            if index == length-1:\n",
    "                break\n",
    "            index += 1\n",
    "        if not qCur:\n",
    "            qCur,qNext = qNext,qCur\n",
    "    return root"
   ]
  },
  {
   "cell_type": "raw",
   "metadata": {},
   "source": [
    "    3\n",
    "   / \\\n",
    "  9  20\n",
    " /  /  \\\n",
    "1  15   7"
   ]
  },
  {
   "cell_type": "code",
   "execution_count": 2,
   "metadata": {
    "collapsed": true
   },
   "outputs": [],
   "source": [
    "seq = [3,9,20,1,'#',15,7]\n",
    "root = deSorderLevel(seq)"
   ]
  },
  {
   "cell_type": "code",
   "execution_count": 11,
   "metadata": {
    "collapsed": true
   },
   "outputs": [],
   "source": [
    "class Solution(object):\n",
    "    def binaryTreePaths(self, root):\n",
    "        \"\"\"\n",
    "        :type root: TreeNode\n",
    "        :rtype: List[str]\n",
    "        \"\"\"\n",
    "        res = []\n",
    "        qCur = collections.deque()\n",
    "        qNext = collections.deque()\n",
    "        qCur.append((root,str(root.val)))\n",
    "        while qCur:\n",
    "            node,s = qCur.popleft()\n",
    "            left = node.left\n",
    "            right = node.right\n",
    "            if not left and not right:\n",
    "                res.append(s)\n",
    "            if left:\n",
    "                qNext.append((left,s+\"->\"+str(left.val)))\n",
    "            if right:\n",
    "                qNext.append((right,s+\"->\"+str(right.val)))\n",
    "            if not qCur:\n",
    "                qCur,qNext = qNext,qCur\n",
    "        return res  "
   ]
  },
  {
   "cell_type": "code",
   "execution_count": 12,
   "metadata": {
    "collapsed": false
   },
   "outputs": [
    {
     "name": "stdout",
     "output_type": "stream",
     "text": [
      "3->9\n",
      "3->20\n",
      "3->9->1\n",
      "3->20->15\n",
      "3->20->7\n",
      "['3->9->1', '3->20->15', '3->20->7']\n"
     ]
    }
   ],
   "source": [
    "sol = Solution()\n",
    "print sol.binaryTreePaths(root)"
   ]
  }
 ],
 "metadata": {
  "kernelspec": {
   "display_name": "Python 2",
   "language": "python",
   "name": "python2"
  },
  "language_info": {
   "codemirror_mode": {
    "name": "ipython",
    "version": 2
   },
   "file_extension": ".py",
   "mimetype": "text/x-python",
   "name": "python",
   "nbconvert_exporter": "python",
   "pygments_lexer": "ipython2",
   "version": "2.7.6"
  }
 },
 "nbformat": 4,
 "nbformat_minor": 0
}
