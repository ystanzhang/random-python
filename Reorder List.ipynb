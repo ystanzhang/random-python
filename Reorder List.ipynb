{
 "cells": [
  {
   "cell_type": "markdown",
   "metadata": {},
   "source": [
    "Given a singly linked list L: L0→L1→…→Ln-1→Ln,\n",
    "reorder it to: L0→Ln→L1→Ln-1→L2→Ln-2→…\n",
    "\n",
    "You must do this in-place without altering the nodes' values.\n",
    "\n",
    "For example,\n",
    "Given {1,2,3,4}, reorder it to {1,4,2,3}."
   ]
  },
  {
   "cell_type": "markdown",
   "metadata": {},
   "source": [
    "Two cases:\n",
    "1,2,3,4,5,6,7,8 -> 1,8,2,7,3,6,4,5  \n",
    "1,2,3,4,5,6,7,8,9 -> 1,9,2,8,3,7,4,6,5"
   ]
  },
  {
   "cell_type": "code",
   "execution_count": 1,
   "metadata": {
    "collapsed": true
   },
   "outputs": [],
   "source": [
    "class ListNode:\n",
    "    def __init__ (self,x):\n",
    "        self.val = x\n",
    "        self.next = None\n",
    "def construct_list (array):\n",
    "    head = ListNode (0)\n",
    "    for i in range (len(array)):\n",
    "        if i==0:\n",
    "            head = ListNode (array[i])\n",
    "            tail = head\n",
    "        else:\n",
    "            tail.next = ListNode (array[i])\n",
    "            tail = tail.next\n",
    "    return head\n",
    "def printList (l):\n",
    "    if not l:\n",
    "        return []\n",
    "    else:\n",
    "        p = l\n",
    "        temp = []\n",
    "        while p:\n",
    "            temp.append(p.val)\n",
    "            p = p.next\n",
    "        print (temp)"
   ]
  },
  {
   "cell_type": "code",
   "execution_count": 88,
   "metadata": {
    "collapsed": true
   },
   "outputs": [],
   "source": [
    "class Solution:\n",
    "    # @param {ListNode} head\n",
    "    # @return {void} Do not return anything, modify head in-place instead.\n",
    "    def split(self,head):\n",
    "        if not head or not head.next:\n",
    "            return\n",
    "        slow = fast = head\n",
    "        while fast and fast.next:\n",
    "            slow = slow.next\n",
    "            fast = fast.next.next\n",
    "        mid = slow.next\n",
    "        slow.next = None\n",
    "        return head,mid\n",
    "    \n",
    "    def reverseList (self, head):\n",
    "        last = None\n",
    "        currentNode = head\n",
    "\n",
    "        while currentNode:\n",
    "            nextNode = currentNode.next\n",
    "            currentNode.next = last\n",
    "            last = currentNode\n",
    "            currentNode = nextNode\n",
    "\n",
    "        return last\n",
    "    \n",
    "    def reorderList(self, head):\n",
    "        if not head or not head.next:\n",
    "            return head\n",
    "        # split input list into two lists\n",
    "        head, mid = self.split(head)\n",
    "#         print(\"head is: \")\n",
    "#         printList(head)\n",
    "        mid = self.reverseList(mid)\n",
    "#         print(\"mid is: \")\n",
    "#         printList(mid)\n",
    "        cur = head\n",
    "        while mid:\n",
    "            nextNode = cur.next\n",
    "            midNext = mid.next\n",
    "            cur.next = mid\n",
    "            mid.next = nextNode\n",
    "            mid = midNext\n",
    "            cur = nextNode\n",
    "        return head\n",
    "            "
   ]
  },
  {
   "cell_type": "code",
   "execution_count": 37,
   "metadata": {
    "collapsed": true
   },
   "outputs": [],
   "source": [
    "def split (head):\n",
    "    if not head or not head.next:\n",
    "        return head\n",
    "    slow = fast = head\n",
    "    while fast and fast.next:\n",
    "        slow = slow.next\n",
    "        fast = fast.next.next\n",
    "    mid = slow.next\n",
    "    slow.next = None\n",
    "    return head,mid"
   ]
  },
  {
   "cell_type": "code",
   "execution_count": 53,
   "metadata": {
    "collapsed": true
   },
   "outputs": [],
   "source": [
    "def reverseList (head):\n",
    "    new_head = None\n",
    "    while head:\n",
    "        head.next, head, new_head = new_head, head.next, head\n",
    "    return new_head"
   ]
  },
  {
   "cell_type": "code",
   "execution_count": 91,
   "metadata": {
    "collapsed": false
   },
   "outputs": [
    {
     "name": "stdout",
     "output_type": "stream",
     "text": [
      "[1, 2]\n"
     ]
    }
   ],
   "source": [
    "a = construct_list([1,2])\n",
    "sol = Solution ()\n",
    "ret = sol.reorderList(a)\n",
    "printList(ret)"
   ]
  },
  {
   "cell_type": "code",
   "execution_count": 38,
   "metadata": {
    "collapsed": false
   },
   "outputs": [
    {
     "name": "stdout",
     "output_type": "stream",
     "text": [
      "[1, 2, 3, 4, 5]\n",
      "[6, 7, 8]\n"
     ]
    }
   ],
   "source": [
    "a = construct_list([1,2,3,4,5,6,7,8])\n",
    "head,mid = split(a)\n",
    "printList(head)\n",
    "printList(mid)"
   ]
  },
  {
   "cell_type": "code",
   "execution_count": 55,
   "metadata": {
    "collapsed": false
   },
   "outputs": [
    {
     "name": "stdout",
     "output_type": "stream",
     "text": [
      "[8, 7, 6, 5, 4, 3, 2, 1]\n"
     ]
    }
   ],
   "source": [
    "a = construct_list([1,2,3,4,5,6,7,8])\n",
    "head = reverseList(a)\n",
    "printList(head)"
   ]
  }
 ],
 "metadata": {
  "kernelspec": {
   "display_name": "Python 2",
   "language": "python",
   "name": "python2"
  },
  "language_info": {
   "codemirror_mode": {
    "name": "ipython",
    "version": 2
   },
   "file_extension": ".py",
   "mimetype": "text/x-python",
   "name": "python",
   "nbconvert_exporter": "python",
   "pygments_lexer": "ipython2",
   "version": "2.7.10"
  }
 },
 "nbformat": 4,
 "nbformat_minor": 0
}
