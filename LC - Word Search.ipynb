{
 "cells": [
  {
   "cell_type": "markdown",
   "metadata": {},
   "source": [
    "Given a 2D board and a word, find if the word exists in the grid.\n",
    "\n",
    "The word can be constructed from letters of sequentially adjacent cell, where \"adjacent\" cells are those horizontally or vertically neighboring. The same letter cell may not be used more than once.\n",
    "\n",
    "For example,\n",
    "Given board =\n",
    "\n",
    "[\n",
    "  [\"ABCE\"],\n",
    "  [\"SFCS\"],\n",
    "  [\"ADEE\"]\n",
    "]\n",
    "word = \"ABCCED\", -> returns true,\n",
    "word = \"SEE\", -> returns true,\n",
    "word = \"ABCB\", -> returns false."
   ]
  },
  {
   "cell_type": "code",
   "execution_count": 45,
   "metadata": {
    "collapsed": true
   },
   "outputs": [],
   "source": [
    "class Solution:\n",
    "    # @param {character[][]} board\n",
    "    # @param {string} word\n",
    "    # @return {boolean}\n",
    "    def exist(self, board, word):\n",
    "        if not word:\n",
    "            return True\n",
    "        if not board:\n",
    "            return False\n",
    "        for i in range(len(board)):\n",
    "            for j in range(len(board[i])):\n",
    "                if self.exist_helper(board, word, i, j):\n",
    "                    return True\n",
    "        return False\n",
    "\n",
    "    def exist_helper(self, board, word, i, j):\n",
    "        if board[i][j] == word[0]:\n",
    "            if not word[1:]:\n",
    "                return True\n",
    "            board[i][j] = \" \" # indicate used cell\n",
    "            # check all adjacent cells\n",
    "            if i > 0 and self.exist_helper(board, word[1:], i-1, j):#check left\n",
    "                return True\n",
    "            if i < len(board)-1 and self.exist_helper(board, word[1:], i+1, j):#check right\n",
    "                return True\n",
    "            if j > 0 and self.exist_helper(board, word[1:], i, j-1):#check up\n",
    "                return True\n",
    "            if j < len(board[0])-1 and self.exist_helper(board, word[1:], i, j+1):#check down\n",
    "                return True\n",
    "            board[i][j] = word[0] # update the cell to its original value\n",
    "            return False\n",
    "        else:\n",
    "            return False"
   ]
  },
  {
   "cell_type": "code",
   "execution_count": 9,
   "metadata": {
    "collapsed": true
   },
   "outputs": [],
   "source": [
    "# class Solution:\n",
    "#     # @param board, a list of lists of 1 length string\n",
    "#     # @param word, a string\n",
    "#     # @return a boolean\n",
    "#     # 3:42\n",
    "#     def exist(self, board, word):\n",
    "#         visited = {}\n",
    "\n",
    "#         for i in range(len(board)):\n",
    "#             for j in range(len(board[0])):\n",
    "#                 if self.getWords(board, word, i, j, visited):\n",
    "#                     return True\n",
    "\n",
    "#         return False\n",
    "\n",
    "#     def getWords(self, board, word, i, j, visited, pos = 0):\n",
    "#         if pos == len(word):\n",
    "#             return True\n",
    "\n",
    "#         if i < 0 or i == len(board) or j < 0 or j == len(board[0]) or visited.get((i, j)) or word[pos] != board[i][j]:\n",
    "#             return False\n",
    "\n",
    "#         visited[(i, j)] = True\n",
    "#         res = self.getWords(board, word, i, j + 1, visited, pos + 1) \\\n",
    "#                 or self.getWords(board, word, i, j - 1, visited, pos + 1) \\\n",
    "#                 or self.getWords(board, word, i + 1, j, visited, pos + 1) \\\n",
    "#                 or self.getWords(board, word, i - 1, j, visited, pos + 1)\n",
    "#         visited[(i, j)] = False\n",
    "\n",
    "#         return res"
   ]
  },
  {
   "cell_type": "code",
   "execution_count": 46,
   "metadata": {
    "collapsed": false
   },
   "outputs": [
    {
     "name": "stdout",
     "output_type": "stream",
     "text": [
      "non-exist\n",
      "[['A', 'B', 'C', 'E'], ['S', 'F', 'C', 'S'], ['A', 'D', 'E', 'E']]\n"
     ]
    }
   ],
   "source": [
    "sol = Solution ()\n",
    "testArray = [ [\"A\",\"B\",\"C\",\"E\"], [\"S\",\"F\",\"C\",\"S\"], [\"A\",\"D\",\"E\",\"E\"] ]\n",
    "if sol.exist (testArray,\"SEESEE\"):\n",
    "    print \"exist\"\n",
    "else:\n",
    "    print \"non-exist\"\n",
    "print testArray"
   ]
  },
  {
   "cell_type": "code",
   "execution_count": 47,
   "metadata": {
    "collapsed": false
   },
   "outputs": [
    {
     "name": "stdout",
     "output_type": "stream",
     "text": [
      "non-exist\n",
      "[['A', 'A']]\n"
     ]
    }
   ],
   "source": [
    "sol = Solution ()\n",
    "testArray = [ [\"A\",\"A\"]]\n",
    "if sol.exist (testArray,\"AAA\"):\n",
    "    print \"exist\"\n",
    "else:\n",
    "    print \"non-exist\"\n",
    "print testArray"
   ]
  },
  {
   "cell_type": "code",
   "execution_count": 19,
   "metadata": {
    "collapsed": true
   },
   "outputs": [],
   "source": [
    "twoD = [ [\"A\",\"B\"], [\"S\",\"F\",\"C\",\"S\"], [\"A\",\"D\",\"E\",\"E\"] ]"
   ]
  },
  {
   "cell_type": "code",
   "execution_count": 58,
   "metadata": {
    "collapsed": false
   },
   "outputs": [
    {
     "name": "stdout",
     "output_type": "stream",
     "text": [
      "55\n"
     ]
    }
   ],
   "source": [
    "def fib (n):\n",
    "    if n < 2:\n",
    "        return n\n",
    "    a = 0\n",
    "    b = 1\n",
    "    for i in range(n-1):\n",
    "        c = a+b\n",
    "        a = b\n",
    "        b = c\n",
    "    return c\n",
    "print fib(10)"
   ]
  }
 ],
 "metadata": {
  "kernelspec": {
   "display_name": "Python 2",
   "language": "python",
   "name": "python2"
  },
  "language_info": {
   "codemirror_mode": {
    "name": "ipython",
    "version": 2
   },
   "file_extension": ".py",
   "mimetype": "text/x-python",
   "name": "python",
   "nbconvert_exporter": "python",
   "pygments_lexer": "ipython2",
   "version": "2.7.6"
  }
 },
 "nbformat": 4,
 "nbformat_minor": 0
}
