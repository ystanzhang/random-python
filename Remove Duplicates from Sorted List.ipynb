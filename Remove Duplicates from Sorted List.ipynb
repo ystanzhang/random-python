{
 "cells": [
  {
   "cell_type": "markdown",
   "metadata": {},
   "source": [
    "Given a sorted linked list, delete all duplicates such that each element appear only once.\n",
    "\n",
    "For example,\n",
    "Given 1->1->2, return 1->2.\n",
    "Given 1->1->2->3->3, return 1->2->3."
   ]
  },
  {
   "cell_type": "code",
   "execution_count": 1,
   "metadata": {
    "collapsed": true
   },
   "outputs": [],
   "source": [
    "class ListNode:\n",
    "    def __init__ (self,x):\n",
    "        self.val = x\n",
    "        self.next = None\n",
    "def construct_list (array):\n",
    "    head = ListNode (0)\n",
    "    for i in range (len(array)):\n",
    "        if i==0:\n",
    "            head = ListNode (array[i])\n",
    "            tail = head\n",
    "        else:\n",
    "            tail.next = ListNode (array[i])\n",
    "            tail = tail.next\n",
    "    return head\n",
    "def printList (l):\n",
    "    p = l\n",
    "    temp = []\n",
    "    while p:\n",
    "        temp.append(p.val)\n",
    "        p = p.next\n",
    "    print (temp)"
   ]
  },
  {
   "cell_type": "code",
   "execution_count": 2,
   "metadata": {
    "collapsed": true
   },
   "outputs": [],
   "source": [
    "class Solution:\n",
    "    # @param {ListNode} head\n",
    "    # @return {ListNode}\n",
    "    def deleteDuplicates(self, head):\n",
    "        if not head or not head.next:\n",
    "            return head\n",
    "        cur = head\n",
    "        while cur:\n",
    "            if cur.next is None:\n",
    "                return head\n",
    "            if cur.val == cur.next.val:\n",
    "                cur.next = cur.next.next\n",
    "            else:\n",
    "                cur = cur.next\n",
    "        return head\n",
    "                "
   ]
  },
  {
   "cell_type": "code",
   "execution_count": 4,
   "metadata": {
    "collapsed": false
   },
   "outputs": [
    {
     "name": "stdout",
     "output_type": "stream",
     "text": [
      "[3, 2]\n"
     ]
    }
   ],
   "source": [
    "l = construct_list ([3,2,2,2])\n",
    "solution = Solution ()\n",
    "ret = solution.deleteDuplicates(l)\n",
    "printList (ret)\n"
   ]
  }
 ],
 "metadata": {
  "kernelspec": {
   "display_name": "Python 2",
   "language": "python",
   "name": "python2"
  },
  "language_info": {
   "codemirror_mode": {
    "name": "ipython",
    "version": 2
   },
   "file_extension": ".py",
   "mimetype": "text/x-python",
   "name": "python",
   "nbconvert_exporter": "python",
   "pygments_lexer": "ipython2",
   "version": "2.7.6"
  }
 },
 "nbformat": 4,
 "nbformat_minor": 0
}
