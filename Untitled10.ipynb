{
 "cells": [
  {
   "cell_type": "code",
   "execution_count": 19,
   "metadata": {
    "collapsed": false
   },
   "outputs": [],
   "source": [
    "def getHint(secret, guess):\n",
    "        \"\"\"\n",
    "        :type secret: str\n",
    "        :type guess: str\n",
    "        :rtype: str\n",
    "        \"\"\"\n",
    "        countA = 0\n",
    "        countB = 0\n",
    "        secrets = [int (i) for i in list(secret)]\n",
    "        guesses = [int (i) for i in list(guess)]\n",
    "        sames = [secrets[i] for i in range(len(secrets) ) if secrets[i] == guesses[i]]\n",
    "        countA = len(sames)\n",
    "        \n",
    "        mapSecret = {i:secrets.count(i) for i in range(9)}\n",
    "        mapGuess = {i:guesses.count(i) for i in range(9)}\n",
    "        mapCount = {i:min(mapSecret[i],mapGuess[i]) for i in range(9)}\n",
    "        print mapCount\n",
    "        for i in sames:\n",
    "            mapCount[i] -= 1\n",
    "        print mapCount\n",
    "        for i in range(9):\n",
    "            countB += mapCount[i]\n",
    "        print (countA, countB)"
   ]
  },
  {
   "cell_type": "code",
   "execution_count": 20,
   "metadata": {
    "collapsed": false
   },
   "outputs": [
    {
     "name": "stdout",
     "output_type": "stream",
     "text": [
      "{0: 0, 1: 2, 2: 0, 3: 0, 4: 0, 5: 0, 6: 0, 7: 0, 8: 0}\n",
      "{0: 0, 1: 1, 2: 0, 3: 0, 4: 0, 5: 0, 6: 0, 7: 0, 8: 0}\n",
      "(1, 1)\n"
     ]
    }
   ],
   "source": [
    "secret = \"1123\"\n",
    "guess = \"0111\"\n",
    "getHint(secret, guess)"
   ]
  },
  {
   "cell_type": "code",
   "execution_count": 56,
   "metadata": {
    "collapsed": true
   },
   "outputs": [],
   "source": [
    "def getHint2( secret, guess):\n",
    "        \"\"\"\n",
    "        :type secret: str\n",
    "        :type guess: str\n",
    "        :rtype: str\n",
    "        \"\"\"\n",
    "        # return value\n",
    "        countA = 0\n",
    "        countB = 0\n",
    "        d1 = {i:0 for i in range(10)}\n",
    "        d2 = {i:0 for i in range(10)}\n",
    "        # convert to list\n",
    "        for i in range(len(secret)):\n",
    "            print (i, secret[i], guess[i])\n",
    "            \n",
    "            if secret[i] == guess[i]:\n",
    "                countA += 1\n",
    "            else:\n",
    "                print d1\n",
    "                print d2\n",
    "                notFound = True\n",
    "                if d2[int(secret[i])] > 0:\n",
    "                    countB += 1\n",
    "                    d2[int(secret[i])] -= 1\n",
    "                    d2[int(guess[i])] += 1\n",
    "                    notFound = False\n",
    "                if d1[int(guess[i])] > 0:\n",
    "                    countB += 1 \n",
    "                    d1[int(guess[i])] -= 1\n",
    "                    d1[int(secret[i])] += 1\n",
    "                    notFound = False\n",
    "                if notFound:\n",
    "                    d2[int(guess[i])] += 1\n",
    "                    d1[int(secret[i])] += 1\n",
    "        return str(countA) + 'A' + str(countB) + 'B'"
   ]
  },
  {
   "cell_type": "code",
   "execution_count": 58,
   "metadata": {
    "collapsed": false
   },
   "outputs": [
    {
     "name": "stdout",
     "output_type": "stream",
     "text": [
      "{0: 0, 1: 0, 2: 0, 3: 1, 4: 0, 5: 1, 6: 1, 7: 1, 8: 1}\n",
      "{0: 0, 1: 0, 2: 0, 3: 1, 4: 0, 5: 1, 6: 1, 7: 0, 8: 1}\n",
      "(1, 4)\n"
     ]
    }
   ],
   "source": [
    "secret = \"0765860239\"\n",
    "guess =  \"5736153483\"\n",
    "getHint(secret, guess)"
   ]
  },
  {
   "cell_type": "code",
   "execution_count": 60,
   "metadata": {
    "collapsed": false
   },
   "outputs": [
    {
     "data": {
      "text/plain": [
       "3"
      ]
     },
     "execution_count": 60,
     "metadata": {},
     "output_type": "execute_result"
    }
   ],
   "source": [
    "pos = {1: 1, 2:1, 1:3}\n",
    "pos.pop(1)"
   ]
  },
  {
   "cell_type": "code",
   "execution_count": 61,
   "metadata": {
    "collapsed": false
   },
   "outputs": [
    {
     "data": {
      "text/plain": [
       "2"
      ]
     },
     "execution_count": 61,
     "metadata": {},
     "output_type": "execute_result"
    }
   ],
   "source": [
    "nums = [1,2,3,5,7]\n",
    "nums.pop(1)"
   ]
  },
  {
   "cell_type": "code",
   "execution_count": 63,
   "metadata": {
    "collapsed": false
   },
   "outputs": [
    {
     "ename": "TypeError",
     "evalue": "zip() takes no keyword arguments",
     "output_type": "error",
     "traceback": [
      "\u001b[0;31m---------------------------------------------------------------------------\u001b[0m",
      "\u001b[0;31mTypeError\u001b[0m                                 Traceback (most recent call last)",
      "\u001b[0;32m<ipython-input-63-2e37146d2555>\u001b[0m in \u001b[0;36m<module>\u001b[0;34m()\u001b[0m\n\u001b[1;32m      1\u001b[0m \u001b[0ma\u001b[0m \u001b[0;34m=\u001b[0m \u001b[0;34m{\u001b[0m\u001b[0;36m1\u001b[0m\u001b[0;34m:\u001b[0m\u001b[0;36m1\u001b[0m\u001b[0;34m,\u001b[0m\u001b[0;36m2\u001b[0m\u001b[0;34m:\u001b[0m\u001b[0;36m2\u001b[0m\u001b[0;34m,\u001b[0m\u001b[0;36m3\u001b[0m\u001b[0;34m:\u001b[0m\u001b[0;36m3\u001b[0m\u001b[0;34m,\u001b[0m\u001b[0;36m4\u001b[0m\u001b[0;34m:\u001b[0m\u001b[0;36m4\u001b[0m\u001b[0;34m}\u001b[0m\u001b[0;34m\u001b[0m\u001b[0m\n\u001b[0;32m----> 2\u001b[0;31m \u001b[0mzip\u001b[0m\u001b[0;34m(\u001b[0m\u001b[0;34m**\u001b[0m\u001b[0ma\u001b[0m\u001b[0;34m)\u001b[0m\u001b[0;34m\u001b[0m\u001b[0m\n\u001b[0m",
      "\u001b[0;31mTypeError\u001b[0m: zip() takes no keyword arguments"
     ]
    }
   ],
   "source": [
    "a = {1:1,2:2,3:3,4:4}\n",
    "zip(**a)"
   ]
  },
  {
   "cell_type": "code",
   "execution_count": 68,
   "metadata": {
    "collapsed": false
   },
   "outputs": [
    {
     "name": "stdout",
     "output_type": "stream",
     "text": [
      "[0, 0, 2, 2]\n",
      "[0, 0, 2, 3, 4]\n"
     ]
    }
   ],
   "source": [
    "pattern = 'aabb'\n",
    "print map(pattern.find, pattern) \n",
    "nums = [1,1,3,5,7]\n",
    "# print nums.index\n",
    "print map(nums.index, nums)"
   ]
  },
  {
   "cell_type": "code",
   "execution_count": 78,
   "metadata": {
    "collapsed": true
   },
   "outputs": [],
   "source": [
    "def wordPatternMatch( pattern, string):\n",
    "        \"\"\"\n",
    "        :type pattern: str\n",
    "        :type str: str\n",
    "        :rtype: bool\n",
    "        \"\"\"\n",
    "        l = len(pattern)\n",
    "        print l\n",
    "        print len(string)\n",
    "        if l==0 or len(string)%l != 0:\n",
    "            return False\n",
    "        t = []\n",
    "        i = 0\n",
    "        while i < len(string):\n",
    "            t.append(str[i:i+l])\n",
    "            i += l\n",
    "        print t\n",
    "#         return map(pattern.find, pattern) == map(t.index, t)"
   ]
  },
  {
   "cell_type": "code",
   "execution_count": 79,
   "metadata": {
    "collapsed": false
   },
   "outputs": [
    {
     "name": "stdout",
     "output_type": "stream",
     "text": [
      "4\n",
      "14\n"
     ]
    },
    {
     "data": {
      "text/plain": [
       "False"
      ]
     },
     "execution_count": 79,
     "metadata": {},
     "output_type": "execute_result"
    }
   ],
   "source": [
    "pattern = \"abab\"\n",
    "str = \"redblueredblue\"\n",
    "wordPatternMatch( pattern, str)"
   ]
  }
 ],
 "metadata": {
  "kernelspec": {
   "display_name": "Python 2",
   "language": "python",
   "name": "python2"
  },
  "language_info": {
   "codemirror_mode": {
    "name": "ipython",
    "version": 2
   },
   "file_extension": ".py",
   "mimetype": "text/x-python",
   "name": "python",
   "nbconvert_exporter": "python",
   "pygments_lexer": "ipython2",
   "version": "2.7.10"
  }
 },
 "nbformat": 4,
 "nbformat_minor": 0
}
