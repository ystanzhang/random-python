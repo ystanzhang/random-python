{
 "cells": [
  {
   "cell_type": "markdown",
   "metadata": {},
   "source": [
    "Given a string, determine if it is a palindrome, considering only alphanumeric characters and ignoring cases.\n",
    "\n",
    "For example,\n",
    "\"A man, a plan, a canal: Panama\" is a palindrome.\n",
    "\"race a car\" is not a palindrome.\n",
    "\n",
    "Note:\n",
    "Have you consider that the string might be empty? This is a good question to ask during an interview.\n",
    "\n",
    "For the purpose of this problem, we define empty string as valid palindrome"
   ]
  },
  {
   "cell_type": "code",
   "execution_count": 26,
   "metadata": {
    "collapsed": false
   },
   "outputs": [
    {
     "name": "stdout",
     "output_type": "stream",
     "text": [
      "amanaplanacanalpanama1223\n"
     ]
    }
   ],
   "source": [
    "s = \"A man, a plan, a canal: Panama1223\"\n",
    "# s= s.lower()\n",
    "s = ''.join([i.lower() for i in s if i.isalnum()])\n",
    "print s"
   ]
  },
  {
   "cell_type": "code",
   "execution_count": 1,
   "metadata": {
    "collapsed": true
   },
   "outputs": [],
   "source": [
    "class Solution(object):\n",
    "    def isPalindrome(self, s):\n",
    "        \"\"\"\n",
    "        :type s: str\n",
    "        :rtype: bool\n",
    "        \"\"\"\n",
    "        s = ''.join([i.lower() for i in s if i.isalnum()])\n",
    "        print \"s: \",s\n",
    "        n = len(s)\n",
    "        headIdx = 0\n",
    "        tailIdx = n-1\n",
    "        while (headIdx <= tailIdx):\n",
    "            if s[headIdx] == s[tailIdx]:\n",
    "                headIdx += 1\n",
    "                tailIdx -= 1\n",
    "            else: \n",
    "                return False\n",
    "        return True"
   ]
  },
  {
   "cell_type": "code",
   "execution_count": 3,
   "metadata": {
    "collapsed": false
   },
   "outputs": [
    {
     "name": "stdout",
     "output_type": "stream",
     "text": [
      "s:  lol\n",
      "isPalindrome\n"
     ]
    }
   ],
   "source": [
    "s = \"lol\"\n",
    "sol = Solution()\n",
    "if sol.isPalindrome (s):\n",
    "    print \"isPalindrome\"\n",
    "else: \n",
    "    print \"is not Palindrome\""
   ]
  }
 ],
 "metadata": {
  "kernelspec": {
   "display_name": "Python 2",
   "language": "python",
   "name": "python2"
  },
  "language_info": {
   "codemirror_mode": {
    "name": "ipython",
    "version": 2
   },
   "file_extension": ".py",
   "mimetype": "text/x-python",
   "name": "python",
   "nbconvert_exporter": "python",
   "pygments_lexer": "ipython2",
   "version": "2.7.10"
  }
 },
 "nbformat": 4,
 "nbformat_minor": 0
}
