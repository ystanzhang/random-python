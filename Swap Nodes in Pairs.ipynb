{
 "cells": [
  {
   "cell_type": "markdown",
   "metadata": {},
   "source": [
    "Given a linked list, swap every two adjacent nodes and return its head.\n",
    "\n",
    "For example,\n",
    "Given 1->2->3->4, you should return the list as 2->1->4->3.\n",
    "\n",
    "Your algorithm should use only constant space. You may not modify the values in the list, only nodes itself can be changed."
   ]
  },
  {
   "cell_type": "code",
   "execution_count": 9,
   "metadata": {
    "collapsed": true
   },
   "outputs": [],
   "source": [
    "# Iterative solution\n",
    "class Solution:\n",
    "    # @param {ListNode} head\n",
    "    # @return {ListNode}\n",
    "    def swapPairs(self, head):\n",
    "        if not head or not head.next:\n",
    "            return head\n",
    "        dummy = ListNode(0)\n",
    "        p0 = dummy\n",
    "        dummy.next = head\n",
    "        while p0.next and p0.next.next:\n",
    "            p1,p2 = p0.next, p0.next.next\n",
    "            p0.next,p1.next,p2.next = p2,p2.next,p1\n",
    "            p0 = p0.next.next\n",
    "        return dummy.next"
   ]
  },
  {
   "cell_type": "code",
   "execution_count": 3,
   "metadata": {
    "collapsed": true
   },
   "outputs": [],
   "source": [
    "class ListNode:\n",
    "    def __init__ (self,x):\n",
    "        self.val = x\n",
    "        self.next = None\n",
    "def construct_list (array):\n",
    "    head = ListNode (0)\n",
    "    for i in range (len(array)):\n",
    "        if i==0:\n",
    "            head = ListNode (array[i])\n",
    "            tail = head\n",
    "        else:\n",
    "            tail.next = ListNode (array[i])\n",
    "            tail = tail.next\n",
    "    return head\n",
    "def printList (l):\n",
    "    p = l\n",
    "    temp = []\n",
    "    while p:\n",
    "        temp.append(p.val)\n",
    "        p = p.next\n",
    "    print (temp)"
   ]
  },
  {
   "cell_type": "code",
   "execution_count": 7,
   "metadata": {
    "collapsed": true
   },
   "outputs": [],
   "source": [
    "# recursive solution\n",
    "class Solution:\n",
    "    # @param {ListNode} head\n",
    "    # @return {ListNode}\n",
    "    def swapPairs(self, head):\n",
    "        if not head or not head.next:\n",
    "            return head\n",
    "        p1,p2 = head.next.next,head.next\n",
    "        head.next.next = head\n",
    "        head.next = self.swapPairs(p1)\n",
    "        return p2"
   ]
  },
  {
   "cell_type": "code",
   "execution_count": 11,
   "metadata": {
    "collapsed": false
   },
   "outputs": [
    {
     "name": "stdout",
     "output_type": "stream",
     "text": [
      "[3, 1, 5, 4]\n"
     ]
    }
   ],
   "source": [
    "l = construct_list ([1,3,4,5])\n",
    "solution = Solution ()\n",
    "ret = solution.swapPairs(l)\n",
    "printList (ret)"
   ]
  }
 ],
 "metadata": {
  "kernelspec": {
   "display_name": "Python 2",
   "language": "python",
   "name": "python2"
  },
  "language_info": {
   "codemirror_mode": {
    "name": "ipython",
    "version": 2
   },
   "file_extension": ".py",
   "mimetype": "text/x-python",
   "name": "python",
   "nbconvert_exporter": "python",
   "pygments_lexer": "ipython2",
   "version": "2.7.6"
  }
 },
 "nbformat": 4,
 "nbformat_minor": 0
}
