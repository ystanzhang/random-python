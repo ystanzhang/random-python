{
 "cells": [
  {
   "cell_type": "raw",
   "metadata": {},
   "source": [
    "Sieve of Atkin 筛子\n",
    "\n",
    "limit ← 1000000000        // arbitrary search limit\n",
    "\n",
    "// set of wheel \"hit\" positions for a 2/3/5 wheel rolled twice as per the Atkin algorithm\n",
    "s ← {1,7,11,13,17,19,23,29,  31,37,41,43,47,49,53,59}\n",
    "\n",
    "// Initialize the sieve with enough wheels to include limit:\n",
    "for n ← 60 × w + x where w ∈ {0,1,...,limit ÷ 60}, x ∈ s:\n",
    "    is_prime(n) ← false\n",
    "\n",
    "// Put in candidate primes:\n",
    "//   integers which have an odd number of\n",
    "//   representations by certain quadratic forms.\n",
    "// Algorithm step 3.1:\n",
    "for n ≤ limit, n ← 4x²+y² where x ∈ {1,2,...} and y ∈ {1,3,...} // all x's odd y's\n",
    "    if n mod 60 ∈ {1,13,17,29,37,41,49,53}:\n",
    "        is_prime(n) ← ¬is_prime(n)   // toggle state\n",
    "// Algorithm step 3.2:\n",
    "for n ≤ limit, n ← 3x²+y² where x ∈ {1,3,...} and y ∈ {2,4,...} // only odd x's\n",
    "    if n mod 60 ∈ {7,19,31,43}:                                 // and even y's\n",
    "        is_prime(n) ← ¬is_prime(n)   // toggle state\n",
    "// Algorithm step 3.3:\n",
    "for n ≤ limit, n ← 3x²-y² where x ∈ {2,3,...} and y ∈ {x-1,x-3,...,1} //all even/odd\n",
    "    if n mod 60 ∈ {11,23,47,59}:                                   // odd/even combos\n",
    "        is_prime(n) ← ¬is_prime(n)   // toggle state\n",
    "\n",
    "// Eliminate composites by sieving, only for those occurrences on the wheel:\n",
    "for n² ≤ limit, n ← 60 × w + x where w ∈ {0,1,...}, x ∈ s, n ≥ 7:\n",
    "    if is_prime(n):\n",
    "        // n is prime, omit multiples of its square; this is sufficient \n",
    "        // because square-free composites can't get on this list\n",
    "        for c ≤ limit, c ← n² × (60 × w + x) where w ∈ {0,1,...}, x ∈ s:\n",
    "            is_prime(c) ← false\n",
    "\n",
    "// one sweep to produce a sequential list of primes up to limit:\n",
    "output 2, 3, 5\n",
    "for 7 ≤ n ≤ limit, n ← 60 × w + x where w ∈ {0,1,...}, x ∈ s:\n",
    "    if is_prime(n): output n"
   ]
  },
  {
   "cell_type": "code",
   "execution_count": null,
   "metadata": {
    "collapsed": false
   },
   "outputs": [],
   "source": [
    "import math\n",
    "\n",
    "def sieveOfAtkin(limit):\n",
    "    P = [2,3]\n",
    "    sieve=[False]*(limit+1)\n",
    "    for x in range(1,int(math.sqrt(limit))+1):\n",
    "        for y in range(1,int(math.sqrt(limit))+1):\n",
    "            n = 4*x**2 + y**2\n",
    "            if n<=limit and (n%12==1 or n%12==5) : sieve[n] = not sieve[n]\n",
    "            n = 3*x**2+y**2\n",
    "            if n<= limit and n%12==7 : sieve[n] = not sieve[n]\n",
    "            n = 3*x**2 - y**2\n",
    "            if x>y and n<=limit and n%12==11 : sieve[n] = not sieve[n]\n",
    "    for x in range(5,int(math.sqrt(limit))):\n",
    "        if sieve[x]:\n",
    "            for y in range(x**2,limit+1,x**2):\n",
    "                sieve[y] = False\n",
    "    for p in range(5,limit):\n",
    "        if sieve[p] : P.append(p)\n",
    "    return P[-1]"
   ]
  },
  {
   "cell_type": "code",
   "execution_count": null,
   "metadata": {
    "collapsed": true
   },
   "outputs": [],
   "source": [
    "+---+---+---+---+---+---+\n",
    " | P | y | t | h | o | n |\n",
    " +---+---+---+---+---+---+\n",
    " 0   1   2   3   4   5   6\n",
    "-6  -5  -4  -3  -2  -1"
   ]
  },
  {
   "cell_type": "code",
   "execution_count": null,
   "metadata": {
    "collapsed": false
   },
   "outputs": [],
   "source": [
    "start = timeit.default_timer()\n",
    "print sieveOfAtkin(100000)\n",
    "stop = timeit.default_timer()\n",
    "print ('run time: ', stop - start)"
   ]
  },
  {
   "cell_type": "code",
   "execution_count": null,
   "metadata": {
    "collapsed": false
   },
   "outputs": [],
   "source": [
    "import math\n",
    "def seive(n):\n",
    "    if n<=2:\n",
    "        return 0\n",
    "    res = 0 \n",
    "    primes = [1]*n\n",
    "    primes[0] = primes[1] = 0\n",
    "    # loop through the sqrt of n\n",
    "    for i in range(2, int(math.sqrt(n)) + 1):\n",
    "        # increment number by i if i is prime, assign these to be nonprime\n",
    "        if primes[i]:\n",
    "            primes[i * i: n: i] = [0] * len(primes[i * i: n: i])\n",
    "    res = max(i for i in range(len(primes)) if primes[i] == 1)\n",
    "    return res"
   ]
  },
  {
   "cell_type": "code",
   "execution_count": null,
   "metadata": {
    "collapsed": false
   },
   "outputs": [],
   "source": [
    "seive(20)"
   ]
  },
  {
   "cell_type": "code",
   "execution_count": null,
   "metadata": {
    "collapsed": false
   },
   "outputs": [],
   "source": [
    "import timeit\n",
    "start = timeit.default_timer()\n",
    "print seive(100000)\n",
    "stop = timeit.default_timer()\n",
    "print ('run time: ', stop - start)"
   ]
  },
  {
   "cell_type": "code",
   "execution_count": null,
   "metadata": {
    "collapsed": false
   },
   "outputs": [],
   "source": [
    "print a[0:10:2]\n",
    "a[0:10:2] = [0] * len(a[0:10:2])\n",
    "print a[0:10:2]\n",
    "print a\n",
    "print sum(1 for i in range (len(a)) if a[i] == 0)\n",
    "b = [0, 1, 0, 3, 0, 5, 0, 7, 0, 9]\n",
    "print [i for i in b if i==0][4]"
   ]
  },
  {
   "cell_type": "code",
   "execution_count": null,
   "metadata": {
    "collapsed": true
   },
   "outputs": [],
   "source": [
    "import math\n",
    "def seive(n):\n",
    "    if n<=2:\n",
    "        return 0\n",
    "    res = 0 \n",
    "    primes = [1]*n\n",
    "    primes[0] = primes[1] = 0\n",
    "    # loop through the sqrt of n\n",
    "    for i in range(2, int(math.sqrt(n)) + 1):\n",
    "        # increment number by i if i is prime, assign these to be nonprime\n",
    "        if primes[i]:\n",
    "            primes[i * i: n: i] = [0] * len(primes[i * i: n: i])\n",
    "    res = max(i for i in range(len(primes)) if primes[i] == 1)\n",
    "    return res"
   ]
  },
  {
   "cell_type": "code",
   "execution_count": 2,
   "metadata": {
    "collapsed": false
   },
   "outputs": [],
   "source": [
    "import math\n",
    "import sys\n",
    "def nthPrime(n):\n",
    "    assert (n>=1)\n",
    "    step = 10\n",
    "    left, right = 2, step\n",
    "    primes = [1]*step\n",
    "    primes[0] = primes[1] = 0\n",
    "    numPrimes = 0\n",
    "    while (right <= sys.maxsize ):\n",
    "        if right > 1000:\n",
    "            break\n",
    "        # loop through the sqrt of n\n",
    "        for i in range(max(left, int(math.sqrt(right)) + 1):\n",
    "            # increment number by i if i is prime, assign these to be nonprime\n",
    "            if primes[i]:\n",
    "                primes[i * i: n: i] = [0] * len(primes[i * i: n: i])\n",
    "        numPrimes = sum(i for i in primes)\n",
    "        if numPrimes > n:\n",
    "             \n",
    "        print ('numPrimes',numPrimes)\n",
    "        primes += [1]*step\n",
    "        left += step\n",
    "        right += step"
   ]
  },
  {
   "cell_type": "code",
   "execution_count": 33,
   "metadata": {
    "collapsed": true
   },
   "outputs": [],
   "source": [
    "# naive solution\n",
    "# this solution works when the size of array is within system limit\n",
    "# however, it can't handle big number\n",
    "import sys\n",
    "import math\n",
    "def nthPrime(n):\n",
    "    assert (n>=1)\n",
    "    bigNum = 10000000\n",
    "    primes = [1]*bigNum\n",
    "    primes[0] = primes[1] = 0\n",
    "    # loop through the sqrt of n\n",
    "    for i in range(2, int(math.sqrt(bigNum)) + 1):\n",
    "        # increment number by i if i is prime, assign these to be nonprime\n",
    "        if primes[i]:\n",
    "            primes[i * i: bigNum: i] = [0] * len(primes[i * i: bigNum: i])\n",
    "    res = [i for i in range(len(primes)) if primes[i] == 1][n-1]\n",
    "    return res\n",
    "\n"
   ]
  },
  {
   "cell_type": "code",
   "execution_count": 34,
   "metadata": {
    "collapsed": false
   },
   "outputs": [
    {
     "data": {
      "text/plain": [
       "1299721"
      ]
     },
     "execution_count": 34,
     "metadata": {},
     "output_type": "execute_result"
    }
   ],
   "source": [
    "nthPrime(100001)"
   ]
  },
  {
   "cell_type": "code",
   "execution_count": null,
   "metadata": {
    "collapsed": true
   },
   "outputs": [],
   "source": [
    "# naive solution\n",
    "# this solution works when the size of array is within system limit\n",
    "# however, it can't handle big number\n",
    "import sys\n",
    "import math\n",
    "def nthPrime(n):\n",
    "    assert (n>=1)\n",
    "    bigNum = 10000\n",
    "    primes = [1]*bigNum\n",
    "    primes[0] = primes[1] = 0\n",
    "    # loop through the sqrt of n\n",
    "    for i in range(2, int(math.sqrt(bigNum)) + 1):\n",
    "        # increment number by i if i is prime, assign these to be nonprime\n",
    "        if primes[i]:\n",
    "            primes[i * i: bigNum: i] = [0] * len(primes[i * i: bigNum: i])\n",
    "    res = [i for i in range(len(primes)) if primes[i] == 1][n-1]\n",
    "#     print primes\n",
    "    return res\n"
   ]
  },
  {
   "cell_type": "code",
   "execution_count": 6,
   "metadata": {
    "collapsed": false
   },
   "outputs": [
    {
     "name": "stdout",
     "output_type": "stream",
     "text": [
      "4294967296\n"
     ]
    }
   ],
   "source": [
    "import math\n",
    "bigNum = int(math.pow(2,32))\n",
    "print bigNum\n",
    "# primes = [1]*bigNum"
   ]
  }
 ],
 "metadata": {
  "kernelspec": {
   "display_name": "Python 2",
   "language": "python",
   "name": "python2"
  },
  "language_info": {
   "codemirror_mode": {
    "name": "ipython",
    "version": 2
   },
   "file_extension": ".py",
   "mimetype": "text/x-python",
   "name": "python",
   "nbconvert_exporter": "python",
   "pygments_lexer": "ipython2",
   "version": "2.7.10"
  }
 },
 "nbformat": 4,
 "nbformat_minor": 0
}
