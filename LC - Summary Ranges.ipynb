{
 "cells": [
  {
   "cell_type": "markdown",
   "metadata": {},
   "source": [
    "Given a sorted integer array without duplicates, return the summary of its ranges.\n",
    "\n",
    "For example, given [0,1,2,4,5,7], return [\"0->2\",\"4->5\",\"7\"]."
   ]
  },
  {
   "cell_type": "code",
   "execution_count": 49,
   "metadata": {
    "collapsed": false
   },
   "outputs": [],
   "source": [
    "class Solution:\n",
    "    # @param {integer[]} nums\n",
    "    # @return {string[]}\n",
    "    def append (self,array,lo,hi):\n",
    "        if lo == hi:\n",
    "            array.append(str (lo))\n",
    "        else:\n",
    "            array.append(str (lo)+\"->\"+str (hi))\n",
    "    def summaryRanges(self, nums):\n",
    "        if len(nums)==0:\n",
    "            return []\n",
    "        if len(nums)==1:\n",
    "            return [str(nums[0])]\n",
    "        res = []\n",
    "        lo = hi = nums [0]\n",
    "        for i in range (1,len(nums)):\n",
    "            if i == len(nums)-1:#reached the end\n",
    "                if nums[i] == hi+1:\n",
    "                    hi = nums [i]\n",
    "                else:\n",
    "                    self.append (res,lo,hi)\n",
    "                    lo = hi = nums [i]\n",
    "                self.append (res,lo,hi)\n",
    "            elif nums[i] == hi+1:\n",
    "                hi = nums [i]\n",
    "            else:# gap occurs\n",
    "                # append previous results\n",
    "                self.append (res,lo,hi)\n",
    "                # reset hi and low to start over    \n",
    "                hi = lo = nums[i]\n",
    "        return res\n",
    "                "
   ]
  },
  {
   "cell_type": "code",
   "execution_count": 50,
   "metadata": {
    "collapsed": false
   },
   "outputs": [
    {
     "name": "stdout",
     "output_type": "stream",
     "text": [
      "['-1']\n"
     ]
    }
   ],
   "source": [
    "sol = Solution()\n",
    "result = sol.summaryRanges([-1])\n",
    "print result"
   ]
  },
  {
   "cell_type": "code",
   "execution_count": null,
   "metadata": {
    "collapsed": true
   },
   "outputs": [],
   "source": []
  }
 ],
 "metadata": {
  "kernelspec": {
   "display_name": "Python 2",
   "language": "python",
   "name": "python2"
  },
  "language_info": {
   "codemirror_mode": {
    "name": "ipython",
    "version": 2
   },
   "file_extension": ".py",
   "mimetype": "text/x-python",
   "name": "python",
   "nbconvert_exporter": "python",
   "pygments_lexer": "ipython2",
   "version": "2.7.6"
  }
 },
 "nbformat": 4,
 "nbformat_minor": 0
}
