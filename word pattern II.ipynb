{
 "cells": [
  {
   "cell_type": "code",
   "execution_count": 9,
   "metadata": {
    "collapsed": true
   },
   "outputs": [],
   "source": [
    "def dfs(pattern, str, dict):\n",
    "        if len(pattern) == 0 and len(str) > 0:\n",
    "            return False\n",
    "        if len(pattern) == len(str) == 0:\n",
    "            return True\n",
    "        for end in range(1, len(str)-len(pattern)+2): # +2 because it is the \"end of an end\"\n",
    "            if pattern[0] not in dict and str[:end] not in dict.values():\n",
    "                print dict,str[:end]\n",
    "                dict[pattern[0]] = str[:end]\n",
    "                if dfs(pattern[1:], str[end:], dict):\n",
    "                    return True\n",
    "                del dict[pattern[0]]\n",
    "            elif pattern[0] in dict and dict[pattern[0]] == str[:end]:\n",
    "                if dfs(pattern[1:], str[end:], dict):\n",
    "                    return True\n",
    "        return False\n",
    "\n",
    "def wordPatternMatch(pattern, str):\n",
    "    return dfs(pattern, str, {})\n"
   ]
  },
  {
   "cell_type": "code",
   "execution_count": 10,
   "metadata": {
    "collapsed": false
   },
   "outputs": [
    {
     "name": "stdout",
     "output_type": "stream",
     "text": [
      "{} c\n",
      "{'a': 'c'} a\n",
      "{'a': 'c'} at\n",
      "{'a': 'c'} atd\n",
      "{'a': 'c'} atdo\n",
      "{'a': 'c'} atdog\n",
      "{'a': 'c'} atdogc\n",
      "{'a': 'c'} atdogca\n",
      "{} ca\n",
      "{'a': 'ca'} t\n",
      "{'a': 'ca'} td\n",
      "{'a': 'ca'} tdo\n",
      "{'a': 'ca'} tdog\n",
      "{'a': 'ca'} tdogc\n",
      "{'a': 'ca'} tdogca\n",
      "{} cat\n",
      "{'a': 'cat'} d\n",
      "{'a': 'cat'} do\n",
      "{'a': 'cat'} dog\n"
     ]
    },
    {
     "data": {
      "text/plain": [
       "True"
      ]
     },
     "execution_count": 10,
     "metadata": {},
     "output_type": "execute_result"
    }
   ],
   "source": [
    "wordPatternMatch('aba','catdogcat')"
   ]
  }
 ],
 "metadata": {
  "kernelspec": {
   "display_name": "Python 2",
   "language": "python",
   "name": "python2"
  },
  "language_info": {
   "codemirror_mode": {
    "name": "ipython",
    "version": 2
   },
   "file_extension": ".py",
   "mimetype": "text/x-python",
   "name": "python",
   "nbconvert_exporter": "python",
   "pygments_lexer": "ipython2",
   "version": "2.7.10"
  }
 },
 "nbformat": 4,
 "nbformat_minor": 0
}
