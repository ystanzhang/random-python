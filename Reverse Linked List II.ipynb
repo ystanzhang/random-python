{
 "cells": [
  {
   "cell_type": "markdown",
   "metadata": {},
   "source": [
    "Reverse a linked list from position m to n. Do it in-place and in one-pass.\n",
    "\n",
    "For example:\n",
    "Given 1->2->3->4->5->NULL, m = 2 and n = 4,\n",
    "\n",
    "return 1->4->3->2->5->NULL.\n",
    "\n",
    "Note:\n",
    "Given m, n satisfy the following condition:\n",
    "1 ≤ m ≤ n ≤ length of list."
   ]
  },
  {
   "cell_type": "code",
   "execution_count": 3,
   "metadata": {
    "collapsed": false
   },
   "outputs": [],
   "source": [
    "class ListNode:\n",
    "    def __init__ (self,x):\n",
    "        self.val = x\n",
    "        self.next = None\n",
    "def construct_list (array):\n",
    "    head = ListNode (0)\n",
    "    for i in range (len(array)):\n",
    "        if i==0:\n",
    "            head = ListNode (array[i])\n",
    "            tail = head\n",
    "        else:\n",
    "            tail.next = ListNode (array[i])\n",
    "            tail = tail.next\n",
    "    return head\n",
    "def printList (l):\n",
    "    p = l\n",
    "    temp = []\n",
    "    while p:\n",
    "        temp.append(p.val)\n",
    "        p = p.next\n",
    "    print (temp)"
   ]
  },
  {
   "cell_type": "code",
   "execution_count": 23,
   "metadata": {
    "collapsed": true
   },
   "outputs": [],
   "source": [
    "class Solution:\n",
    "    # @param {ListNode} head\n",
    "    # @param {integer} m\n",
    "    # @param {integer} n\n",
    "    # @return {ListNode}\n",
    "    def reverseBetween(self, head, m, n):\n",
    "        if m == n:\n",
    "            return head\n",
    "\n",
    "        dummyNode = ListNode(0)\n",
    "        dummyNode.next = head\n",
    "        pre = dummyNode\n",
    "\n",
    "        for i in range(m - 1):\n",
    "            pre = pre.next\n",
    "\n",
    "        # reverse the [m, n] nodes\n",
    "        reverse = None\n",
    "        cur = pre.next\n",
    "        for i in range(n - m + 1):\n",
    "            next = cur.next\n",
    "            cur.next = reverse\n",
    "            reverse = cur\n",
    "            cur = next\n",
    "        \n",
    "        pre.next.next = cur\n",
    "        pre.next = reverse\n",
    "\n",
    "        return dummyNode.next"
   ]
  },
  {
   "cell_type": "code",
   "execution_count": 24,
   "metadata": {
    "collapsed": false
   },
   "outputs": [
    {
     "name": "stdout",
     "output_type": "stream",
     "text": [
      "[1, 2]\n",
      "[1, 2, 6, 7]\n",
      "[1, 5, 4, 3, 2, 6, 7]\n",
      "[1, 5, 4, 3, 2, 6, 7]\n"
     ]
    }
   ],
   "source": [
    "# test case\n",
    "l = construct_list ([1,2,3,4,5,6,7])\n",
    "solution = Solution ()\n",
    "ret = solution.reverseBetween(l,2,5)\n",
    "printList (ret)"
   ]
  }
 ],
 "metadata": {
  "kernelspec": {
   "display_name": "Python 2",
   "language": "python",
   "name": "python2"
  },
  "language_info": {
   "codemirror_mode": {
    "name": "ipython",
    "version": 2
   },
   "file_extension": ".py",
   "mimetype": "text/x-python",
   "name": "python",
   "nbconvert_exporter": "python",
   "pygments_lexer": "ipython2",
   "version": "2.7.6"
  }
 },
 "nbformat": 4,
 "nbformat_minor": 0
}
