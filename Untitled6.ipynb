{
 "cells": [
  {
   "cell_type": "code",
   "execution_count": 7,
   "metadata": {
    "collapsed": true
   },
   "outputs": [],
   "source": [
    "def revNum(n):\n",
    "    ans = 0\n",
    "    while n:\n",
    "        ans = 10*ans + n%10\n",
    "        n = n/10\n",
    "    return ans\n"
   ]
  },
  {
   "cell_type": "code",
   "execution_count": 8,
   "metadata": {
    "collapsed": false
   },
   "outputs": [
    {
     "name": "stdout",
     "output_type": "stream",
     "text": [
      "654321\n"
     ]
    }
   ],
   "source": [
    "print revNum (123456)"
   ]
  },
  {
   "cell_type": "code",
   "execution_count": 41,
   "metadata": {
    "collapsed": true
   },
   "outputs": [],
   "source": [
    "def isPalindrom (n):\n",
    "    if n < 0 :\n",
    "        return False\n",
    "    rev = 0\n",
    "    counter = 0\n",
    "    while n:\n",
    "        rev = 10*rev + n%10\n",
    "        n = n/10\n",
    "        counter += 1\n",
    "        if rev == n:\n",
    "            return True\n",
    "        if n < 10**counter:\n",
    "            if rev/10 == n:\n",
    "                return True\n",
    "            else:\n",
    "                return False\n",
    "    "
   ]
  },
  {
   "cell_type": "code",
   "execution_count": 42,
   "metadata": {
    "collapsed": false
   },
   "outputs": [
    {
     "name": "stdout",
     "output_type": "stream",
     "text": [
      "counter:  4\n",
      "n:  100  rev:  1001\n",
      "1001001 is palindrom\n"
     ]
    }
   ],
   "source": [
    "n = 1001001\n",
    "if isPalindrom(n):\n",
    "    print n,\"is palindrom\"\n",
    "else:\n",
    "    print n,\"is not palindrom\""
   ]
  },
  {
   "cell_type": "code",
   "execution_count": 77,
   "metadata": {
    "collapsed": false
   },
   "outputs": [],
   "source": [
    "def isValid(s):\n",
    "    stack = []\n",
    "    for i in range(len(s)):\n",
    "        if not stack:\n",
    "            stack.append(s[i])\n",
    "        else:\n",
    "            peek = stack[len(stack)-1]\n",
    "            combo = peek + s[i]\n",
    "            if combo == \"()\" or combo == \"[]\" or combo == \"{}\":\n",
    "                stack.pop()\n",
    "            else:\n",
    "                stack.append(s[i])\n",
    "        print s[i],stack\n",
    "    return not stack"
   ]
  },
  {
   "cell_type": "code",
   "execution_count": 78,
   "metadata": {
    "collapsed": false
   },
   "outputs": [
    {
     "name": "stdout",
     "output_type": "stream",
     "text": [
      "( ['(']\n",
      "combo:  ([\n",
      "[ ['(', '[']\n",
      "combo:  []\n",
      "combo seen\n",
      "stack:  ['(']\n",
      "] ['(']\n",
      "combo:  ()\n",
      "combo seen\n",
      "stack:  []\n",
      ") []\n",
      "is valid\n"
     ]
    }
   ],
   "source": [
    "if isValid(\"([])\"):\n",
    "    print \"is valid\"\n",
    "else:\n",
    "    print \"is not valid\""
   ]
  },
  {
   "cell_type": "code",
   "execution_count": 80,
   "metadata": {
    "collapsed": false
   },
   "outputs": [
    {
     "name": "stdout",
     "output_type": "stream",
     "text": [
      "1\n"
     ]
    }
   ],
   "source": [
    "stack = [1,2,3]\n",
    "print min(stack)"
   ]
  },
  {
   "cell_type": "code",
   "execution_count": 76,
   "metadata": {
    "collapsed": false
   },
   "outputs": [
    {
     "name": "stdout",
     "output_type": "stream",
     "text": [
      "success\n"
     ]
    }
   ],
   "source": [
    "combo = \"[]\" \n",
    "if combo == '[]':\n",
    "    print 'success'"
   ]
  }
 ],
 "metadata": {
  "kernelspec": {
   "display_name": "Python 2",
   "language": "python",
   "name": "python2"
  },
  "language_info": {
   "codemirror_mode": {
    "name": "ipython",
    "version": 2
   },
   "file_extension": ".py",
   "mimetype": "text/x-python",
   "name": "python",
   "nbconvert_exporter": "python",
   "pygments_lexer": "ipython2",
   "version": "2.7.6"
  }
 },
 "nbformat": 4,
 "nbformat_minor": 0
}
