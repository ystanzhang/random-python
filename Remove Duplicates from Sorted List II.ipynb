{
 "cells": [
  {
   "cell_type": "markdown",
   "metadata": {},
   "source": [
    "Given a sorted linked list, delete all nodes that have duplicate numbers, leaving only distinct numbers from the original list.\n",
    "\n",
    "For example,\n",
    "Given 1->2->3->3->4->4->5, return 1->2->5.\n",
    "Given 1->1->1->2->3, return 2->3."
   ]
  },
  {
   "cell_type": "code",
   "execution_count": 3,
   "metadata": {
    "collapsed": true
   },
   "outputs": [],
   "source": [
    "class ListNode:\n",
    "    def __init__ (self,x):\n",
    "        self.val = x\n",
    "        self.next = None\n",
    "def construct_list (array):\n",
    "    head = ListNode (0)\n",
    "    for i in range (len(array)):\n",
    "        if i==0:\n",
    "            head = ListNode (array[i])\n",
    "            tail = head\n",
    "        else:\n",
    "            tail.next = ListNode (array[i])\n",
    "            tail = tail.next\n",
    "    return head\n",
    "def printList (l):\n",
    "    p = l\n",
    "    temp = []\n",
    "    while p:\n",
    "        temp.append(p.val)\n",
    "        p = p.next\n",
    "    print (temp)"
   ]
  },
  {
   "cell_type": "code",
   "execution_count": 18,
   "metadata": {
    "collapsed": true
   },
   "outputs": [],
   "source": [
    "class Solution:\n",
    "    # @param {ListNode} head\n",
    "    # @return {ListNode}\n",
    "    def deleteDuplicates(self, head):\n",
    "        if not head or not head.next:\n",
    "            return head\n",
    "        dummy = ListNode(0) #dummy head node\n",
    "        cur,p = head,dummy #p is the dummy tail\n",
    "        while cur:\n",
    "            nextNode = cur.next\n",
    "            if (not nextNode) or (cur.val != nextNode.val):\n",
    "                p.next = cur\n",
    "                p = cur\n",
    "            else:\n",
    "                # update nextNode to remove duplicated nodes\n",
    "                while nextNode and nextNode.val == cur.val:\n",
    "                    nextNode = nextNode.next\n",
    "                # update result linked list    \n",
    "                p.next = nextNode\n",
    "            cur = nextNode\n",
    "        return dummy.next\n",
    "                "
   ]
  },
  {
   "cell_type": "code",
   "execution_count": 21,
   "metadata": {
    "collapsed": false
   },
   "outputs": [
    {
     "name": "stdout",
     "output_type": "stream",
     "text": [
      "[3]\n"
     ]
    }
   ],
   "source": [
    "l = construct_list ([1,1,2,2,3])\n",
    "solution = Solution ()\n",
    "ret = solution.deleteDuplicates(l)\n",
    "printList (ret)"
   ]
  }
 ],
 "metadata": {
  "kernelspec": {
   "display_name": "Python 2",
   "language": "python",
   "name": "python2"
  },
  "language_info": {
   "codemirror_mode": {
    "name": "ipython",
    "version": 2
   },
   "file_extension": ".py",
   "mimetype": "text/x-python",
   "name": "python",
   "nbconvert_exporter": "python",
   "pygments_lexer": "ipython2",
   "version": "2.7.6"
  }
 },
 "nbformat": 4,
 "nbformat_minor": 0
}
