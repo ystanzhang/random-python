{
 "cells": [
  {
   "cell_type": "code",
   "execution_count": null,
   "metadata": {
    "collapsed": true
   },
   "outputs": [],
   "source": [
    " queue = [(p,q)]\n",
    "    while queue:\n",
    "        n1,n2 = queue.pop(0)\n",
    "        if not n1 and not n2:\n",
    "            continue\n",
    "        elif not n1 or not n2:\n",
    "            return False\n",
    "        elif n1.val != n2.val:\n",
    "            return False\n",
    "        else:\n",
    "            queue.append((n1.left,n2.left))\n",
    "            queue.append((n1.right,n2.right))\n",
    "    return True"
   ]
  }
 ],
 "metadata": {
  "kernelspec": {
   "display_name": "Python 2",
   "language": "python",
   "name": "python2"
  },
  "language_info": {
   "codemirror_mode": {
    "name": "ipython",
    "version": 2
   },
   "file_extension": ".py",
   "mimetype": "text/x-python",
   "name": "python",
   "nbconvert_exporter": "python",
   "pygments_lexer": "ipython2",
   "version": "2.7.6"
  }
 },
 "nbformat": 4,
 "nbformat_minor": 0
}
