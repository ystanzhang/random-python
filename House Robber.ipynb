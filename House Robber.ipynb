{
 "cells": [
  {
   "cell_type": "markdown",
   "metadata": {},
   "source": [
    "You are a professional robber planning to rob houses along a street. Each house has a certain amount of money stashed, the only constraint stopping you from robbing each of them is that adjacent houses have security system connected and it will automatically contact the police if two adjacent houses were broken into on the same night.\n",
    "\n",
    "Given a list of non-negative integers representing the amount of money of each house, determine the maximum amount of money you can rob tonight without alerting the police.\n",
    "\n"
   ]
  },
  {
   "cell_type": "markdown",
   "metadata": {},
   "source": [
    "Thinking:\n",
    "1,3,100,200,6 max=200+3 = 203\n",
    "150,3,100,200,6 max=150+100+6=256\n",
    "200,1,1,200,2 max = 200+200 = 400"
   ]
  },
  {
   "cell_type": "code",
   "execution_count": 12,
   "metadata": {
    "collapsed": true
   },
   "outputs": [],
   "source": [
    "class Solution:\n",
    "    # @param {integer[]} nums\n",
    "    # @return {integer}\n",
    "    def rob(self, nums):\n",
    "        a1 = a2 = 0\n",
    "        for i in range(len(nums)):\n",
    "            if i%2==0:\n",
    "                a1 += nums[i]\n",
    "                a1 = max(a1,a2)\n",
    "            else:\n",
    "                a2 += nums[i]\n",
    "                a2 = max(a1,a2)\n",
    "        return max(a1,a2)"
   ]
  },
  {
   "cell_type": "code",
   "execution_count": 19,
   "metadata": {
    "collapsed": false
   },
   "outputs": [
    {
     "name": "stdout",
     "output_type": "stream",
     "text": [
      "400\n"
     ]
    }
   ],
   "source": [
    "sol = Solution ()\n",
    "nums = [200,1,1,200,2]\n",
    "res = sol.rob(nums)\n",
    "print res"
   ]
  },
  {
   "cell_type": "code",
   "execution_count": 18,
   "metadata": {
    "collapsed": true
   },
   "outputs": [],
   "source": [
    "class Solution:\n",
    "    # @param {integer[]} nums\n",
    "    # @return {integer}\n",
    "    def rob(self, nums):\n",
    "        a = b = 0\n",
    "        for i in range(len(nums)):\n",
    "            m = a\n",
    "            n = b\n",
    "            a = n+nums[i]\n",
    "            b = max(m,n)\n",
    "        return max(a,b)"
   ]
  },
  {
   "cell_type": "markdown",
   "metadata": {},
   "source": [
    "After robbing those houses on that street, the thief has found himself a new place for his thievery so that he will not get too much attention. This time, all houses at this place are arranged in a circle. That means the first house is the neighbor of the last one. Meanwhile, the security system for these houses remain the same as for those in the previous street.\n",
    "\n",
    "Given a list of non-negative integers representing the amount of money of each house, determine the maximum amount of money you can rob tonight without alerting the police."
   ]
  },
  {
   "cell_type": "code",
   "execution_count": null,
   "metadata": {
    "collapsed": true
   },
   "outputs": [],
   "source": [
    "class Solution:\n",
    "    # @param {integer[]} nums\n",
    "    # @return {integer}\n",
    "    def rob(self, nums):\n",
    "        a = b = 0\n",
    "        for i in range(len(nums)-1):\n",
    "            m = a\n",
    "            n = b\n",
    "            a = n+nums[i]\n",
    "            b = max(m,n)\n",
    "        temp1 = max(a,b)\n",
    "        a = b = 0\n",
    "        for i in range(1,len(nums)):\n",
    "            m = a\n",
    "            n = b\n",
    "            a = n+nums[i]\n",
    "            b = max(m,n)\n",
    "        temp2 = max(a,b)\n",
    "        return max(temp1,temp2)"
   ]
  }
 ],
 "metadata": {
  "kernelspec": {
   "display_name": "Python 2",
   "language": "python",
   "name": "python2"
  },
  "language_info": {
   "codemirror_mode": {
    "name": "ipython",
    "version": 2
   },
   "file_extension": ".py",
   "mimetype": "text/x-python",
   "name": "python",
   "nbconvert_exporter": "python",
   "pygments_lexer": "ipython2",
   "version": "2.7.6"
  }
 },
 "nbformat": 4,
 "nbformat_minor": 0
}
