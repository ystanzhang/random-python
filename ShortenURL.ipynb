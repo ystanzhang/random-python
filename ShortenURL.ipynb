{
 "cells": [
  {
   "cell_type": "code",
   "execution_count": 28,
   "metadata": {
    "collapsed": true
   },
   "outputs": [],
   "source": [
    "def numToURL (num):\n",
    "    base = \"abcdefghijklmnopqrstuvwxyzABCDEFGHIJKLMNOPQRSTUVWXYZ0123456789\"\n",
    "    digits = []\n",
    "    res = []\n",
    "    while num > 0:\n",
    "        remainder = num%62\n",
    "        digits.append(remainder)\n",
    "        num = num/62\n",
    "    digits = digits[::-1]\n",
    "    for i in digits:\n",
    "        res.append(base[i])\n",
    "    return ''.join(res)\n",
    "\n",
    "def URLtoNum (string):\n",
    "    base = \"abcdefghijklmnopqrstuvwxyzABCDEFGHIJKLMNOPQRSTUVWXYZ0123456789\"\n",
    "    num = 0\n",
    "    for i in range(len(string)):\n",
    "        n = base.index(string[i])\n",
    "        num = len(base)*num + n\n",
    "    return num"
   ]
  },
  {
   "cell_type": "code",
   "execution_count": 21,
   "metadata": {
    "collapsed": false
   },
   "outputs": [
    {
     "name": "stdout",
     "output_type": "stream",
     "text": [
      "Qf3H\n"
     ]
    }
   ],
   "source": [
    "print url(10032439)"
   ]
  },
  {
   "cell_type": "code",
   "execution_count": 29,
   "metadata": {
    "collapsed": false
   },
   "outputs": [
    {
     "name": "stdout",
     "output_type": "stream",
     "text": [
      "10032439\n"
     ]
    }
   ],
   "source": [
    "URLtoNum('Qf3H')"
   ]
  }
 ],
 "metadata": {
  "kernelspec": {
   "display_name": "Python 2",
   "language": "python",
   "name": "python2"
  },
  "language_info": {
   "codemirror_mode": {
    "name": "ipython",
    "version": 2
   },
   "file_extension": ".py",
   "mimetype": "text/x-python",
   "name": "python",
   "nbconvert_exporter": "python",
   "pygments_lexer": "ipython2",
   "version": "2.7.6"
  }
 },
 "nbformat": 4,
 "nbformat_minor": 0
}
