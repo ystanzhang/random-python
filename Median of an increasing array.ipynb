{
 "cells": [
  {
   "cell_type": "markdown",
   "metadata": {
    "collapsed": true
   },
   "source": [
    "Running median  \n",
    "As numbers come in, check the median  \n",
    "Thinking:  \n",
    "Split the numbers into two heaps, one with min heap (root is the min value), the other one with max heap (root is the max value)  \n",
    "  "
   ]
  },
  {
   "cell_type": "code",
   "execution_count": 18,
   "metadata": {
    "collapsed": true
   },
   "outputs": [],
   "source": [
    "import heapq\n",
    "def getMedian (nums):\n",
    "    \"\"\"\n",
    "    :type nums: List[int]\n",
    "    :return type: List[int]\n",
    "    \"\"\"\n",
    "    # stores min values, with root being the min value \n",
    "    minHeap = []\n",
    "    # stores max values, with root being the max value\n",
    "    maxHeap = []\n",
    "    # return array\n",
    "    ret = []\n",
    "    for n in nums:\n",
    "        # push to minHeap if number is smaller\n",
    "        if len(minHeap)  == 0 or n >= minHeap[0]:\n",
    "            heapq.heappush (minHeap,n)\n",
    "        else:\n",
    "            heapq.heappush(maxHeap,-n)\n",
    "            \n",
    "        if len(minHeap) > len(maxHeap) + 1:\n",
    "            topMin = heapq.heappop(minHeap)\n",
    "            heapq.heappush (maxHeap,-topMin)\n",
    "        elif len(maxHeap) > len(minHeap):\n",
    "            topMax = heapq.heappop (maxHeap)\n",
    "            heapq.heappush (minHeap,-topMax)\n",
    "        \n",
    "        if len(minHeap) > len(maxHeap):\n",
    "            ret.append(minHeap[0])\n",
    "        else:\n",
    "            ret.append(-maxHeap[0])\n",
    "    return ret"
   ]
  },
  {
   "cell_type": "code",
   "execution_count": 4,
   "metadata": {
    "collapsed": false
   },
   "outputs": [],
   "source": [
    "import random\n",
    "nums = []\n",
    "for i in range (10):\n",
    "    nums.append (random.randint(1,50))\n",
    "print nums\n",
    "print getMedian (nums)"
   ]
  },
  {
   "cell_type": "code",
   "execution_count": 19,
   "metadata": {
    "collapsed": false
   },
   "outputs": [
    {
     "name": "stdout",
     "output_type": "stream",
     "text": [
      "[33, 28, 4, 7, 18, 17, 4, 34, 46, 13]\n",
      "[33, 28, 28, 7, 18, 17, 17, 17, 18, 17]\n"
     ]
    }
   ],
   "source": [
    "print nums\n",
    "print getMedian (nums)"
   ]
  },
  {
   "cell_type": "code",
   "execution_count": 5,
   "metadata": {
    "collapsed": true
   },
   "outputs": [],
   "source": [
    "import heapq\n",
    "def getMedian (nums):\n",
    "    \"\"\"\n",
    "    :type nums: List[int]\n",
    "    :return type: List[int]\n",
    "    \"\"\"\n",
    "    # minHeap: large half, with root being smallest num\n",
    "    # maxHeap: small half, with root being largest num\n",
    "   \n",
    "    minHeap, maxHeap = [],[]\n",
    "    ret = []\n",
    "    for n in nums:\n",
    "        # smaller number goes to maxHeap\n",
    "        if len(maxHeap) == 0 or n <= -1*maxHeap[0]:\n",
    "            heapq.heappush (maxHeap, -n) # since Python heap is based on min heap\n",
    "        # larger number goes to minHeap\n",
    "        else: \n",
    "            heapq.heappush (minHeap,n)\n",
    "        # make sure len(maxHeap) = len(minHeap) or len(maxHeap) = len(minHeap) + 1\n",
    "        if len(maxHeap) > len(minHeap) + 1:\n",
    "            pop = heapq.heappop (maxHeap)\n",
    "            heapq.heappush (minHeap,-pop)\n",
    "        elif len(minHeap) > len(maxHeap):\n",
    "            pop = heapq.heappop (minHeap)\n",
    "            heapq.heappush (maxHeap,-pop)\n",
    "        ret.append (-maxHeap[0])\n",
    "    return ret"
   ]
  },
  {
   "cell_type": "code",
   "execution_count": 6,
   "metadata": {
    "collapsed": false
   },
   "outputs": [
    {
     "name": "stdout",
     "output_type": "stream",
     "text": [
      "[9, 18, 50, 43, 29, 13, 3, 35, 31, 25]\n",
      "number:  9\n",
      "min:  []\n",
      "max:  [-9]\n",
      "number:  18\n",
      "min:  [18]\n",
      "max:  [-9]\n",
      "number:  50\n",
      "min:  [50]\n",
      "max:  [-18, -9]\n",
      "number:  43\n",
      "min:  [43, 50]\n",
      "max:  [-18, -9]\n",
      "number:  29\n",
      "min:  [43, 50]\n",
      "max:  [-29, -9, -18]\n",
      "number:  13\n",
      "min:  [29, 50, 43]\n",
      "max:  [-18, -13, -9]\n",
      "number:  3\n",
      "min:  [29, 50, 43]\n",
      "max:  [-18, -13, -9, -3]\n",
      "number:  35\n",
      "min:  [29, 35, 43, 50]\n",
      "max:  [-18, -13, -9, -3]\n",
      "number:  31\n",
      "min:  [31, 35, 43, 50]\n",
      "max:  [-29, -18, -9, -3, -13]\n",
      "number:  25\n",
      "min:  [29, 31, 43, 50, 35]\n",
      "max:  [-25, -18, -9, -3, -13]\n",
      "[9, 9, 18, 18, 29, 18, 18, 18, 29, 25]\n"
     ]
    }
   ],
   "source": [
    "import random\n",
    "nums = []\n",
    "for i in range (10):\n",
    "    nums.append (random.randint(1,50))\n",
    "print nums\n",
    "print getMedian (nums)"
   ]
  }
 ],
 "metadata": {
  "kernelspec": {
   "display_name": "Python 2",
   "language": "python",
   "name": "python2"
  },
  "language_info": {
   "codemirror_mode": {
    "name": "ipython",
    "version": 2
   },
   "file_extension": ".py",
   "mimetype": "text/x-python",
   "name": "python",
   "nbconvert_exporter": "python",
   "pygments_lexer": "ipython2",
   "version": "2.7.6"
  }
 },
 "nbformat": 4,
 "nbformat_minor": 0
}
