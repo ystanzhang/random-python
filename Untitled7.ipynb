{
 "cells": [
  {
   "cell_type": "code",
   "execution_count": 13,
   "metadata": {
    "collapsed": false
   },
   "outputs": [],
   "source": [
    "def countSay(s):\n",
    "    res = \"\"\n",
    "    prev = s[0]\n",
    "    count = 1\n",
    "    for i in range(1,len(s)):\n",
    "        if s[i]==prev:\n",
    "            count +=1\n",
    "        else:\n",
    "            res += (str(count)+prev)\n",
    "            prev = s[i]\n",
    "            count = 1\n",
    "    res += (str(count)+prev)\n",
    "    return res"
   ]
  },
  {
   "cell_type": "code",
   "execution_count": 22,
   "metadata": {
    "collapsed": false
   },
   "outputs": [
    {
     "name": "stdout",
     "output_type": "stream",
     "text": [
      "1\n"
     ]
    }
   ],
   "source": [
    "res = \"1\"\n",
    "n = 1\n",
    "for i in range (n-1):\n",
    "    res = countSay(res)\n",
    "print res"
   ]
  }
 ],
 "metadata": {
  "kernelspec": {
   "display_name": "Python 2",
   "language": "python",
   "name": "python2"
  },
  "language_info": {
   "codemirror_mode": {
    "name": "ipython",
    "version": 2
   },
   "file_extension": ".py",
   "mimetype": "text/x-python",
   "name": "python",
   "nbconvert_exporter": "python",
   "pygments_lexer": "ipython2",
   "version": "2.7.6"
  }
 },
 "nbformat": 4,
 "nbformat_minor": 0
}
